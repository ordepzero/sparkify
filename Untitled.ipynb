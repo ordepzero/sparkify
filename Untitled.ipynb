{
 "cells": [
  {
   "cell_type": "code",
   "execution_count": 164,
   "metadata": {},
   "outputs": [],
   "source": [
    "import pandas as pd\n",
    "import seaborn as sns\n",
    "import datetime\n",
    "import math\n",
    "import matplotlib.pyplot as plt\n",
    "import numpy as np\n",
    "import calendar\n",
    "\n",
    "from sklearn.model_selection import train_test_split\n",
    "from sklearn.ensemble import RandomForestClassifier\n"
   ]
  },
  {
   "cell_type": "code",
   "execution_count": 2,
   "metadata": {},
   "outputs": [],
   "source": [
    "df = pd.read_json('mini_sparkify_event_data.json',lines=True)"
   ]
  },
  {
   "cell_type": "code",
   "execution_count": 3,
   "metadata": {},
   "outputs": [
    {
     "data": {
      "text/plain": [
       "(286500, 18)"
      ]
     },
     "execution_count": 3,
     "metadata": {},
     "output_type": "execute_result"
    }
   ],
   "source": [
    "df.shape"
   ]
  },
  {
   "cell_type": "code",
   "execution_count": 4,
   "metadata": {},
   "outputs": [
    {
     "data": {
      "text/html": [
       "<div>\n",
       "<style scoped>\n",
       "    .dataframe tbody tr th:only-of-type {\n",
       "        vertical-align: middle;\n",
       "    }\n",
       "\n",
       "    .dataframe tbody tr th {\n",
       "        vertical-align: top;\n",
       "    }\n",
       "\n",
       "    .dataframe thead th {\n",
       "        text-align: right;\n",
       "    }\n",
       "</style>\n",
       "<table border=\"1\" class=\"dataframe\">\n",
       "  <thead>\n",
       "    <tr style=\"text-align: right;\">\n",
       "      <th></th>\n",
       "      <th>ts</th>\n",
       "      <th>userId</th>\n",
       "      <th>sessionId</th>\n",
       "      <th>page</th>\n",
       "      <th>auth</th>\n",
       "      <th>method</th>\n",
       "      <th>status</th>\n",
       "      <th>level</th>\n",
       "      <th>itemInSession</th>\n",
       "      <th>location</th>\n",
       "      <th>userAgent</th>\n",
       "      <th>lastName</th>\n",
       "      <th>firstName</th>\n",
       "      <th>registration</th>\n",
       "      <th>gender</th>\n",
       "      <th>artist</th>\n",
       "      <th>song</th>\n",
       "      <th>length</th>\n",
       "    </tr>\n",
       "  </thead>\n",
       "  <tbody>\n",
       "    <tr>\n",
       "      <th>0</th>\n",
       "      <td>1538352117000</td>\n",
       "      <td>30</td>\n",
       "      <td>29</td>\n",
       "      <td>NextSong</td>\n",
       "      <td>Logged In</td>\n",
       "      <td>PUT</td>\n",
       "      <td>200</td>\n",
       "      <td>paid</td>\n",
       "      <td>50</td>\n",
       "      <td>Bakersfield, CA</td>\n",
       "      <td>Mozilla/5.0 (Windows NT 6.1; WOW64; rv:31.0) G...</td>\n",
       "      <td>Freeman</td>\n",
       "      <td>Colin</td>\n",
       "      <td>1.538173e+12</td>\n",
       "      <td>M</td>\n",
       "      <td>Martha Tilston</td>\n",
       "      <td>Rockpools</td>\n",
       "      <td>277.89016</td>\n",
       "    </tr>\n",
       "    <tr>\n",
       "      <th>1</th>\n",
       "      <td>1538352180000</td>\n",
       "      <td>9</td>\n",
       "      <td>8</td>\n",
       "      <td>NextSong</td>\n",
       "      <td>Logged In</td>\n",
       "      <td>PUT</td>\n",
       "      <td>200</td>\n",
       "      <td>free</td>\n",
       "      <td>79</td>\n",
       "      <td>Boston-Cambridge-Newton, MA-NH</td>\n",
       "      <td>\"Mozilla/5.0 (Windows NT 6.1; WOW64) AppleWebK...</td>\n",
       "      <td>Long</td>\n",
       "      <td>Micah</td>\n",
       "      <td>1.538332e+12</td>\n",
       "      <td>M</td>\n",
       "      <td>Five Iron Frenzy</td>\n",
       "      <td>Canada</td>\n",
       "      <td>236.09424</td>\n",
       "    </tr>\n",
       "    <tr>\n",
       "      <th>2</th>\n",
       "      <td>1538352394000</td>\n",
       "      <td>30</td>\n",
       "      <td>29</td>\n",
       "      <td>NextSong</td>\n",
       "      <td>Logged In</td>\n",
       "      <td>PUT</td>\n",
       "      <td>200</td>\n",
       "      <td>paid</td>\n",
       "      <td>51</td>\n",
       "      <td>Bakersfield, CA</td>\n",
       "      <td>Mozilla/5.0 (Windows NT 6.1; WOW64; rv:31.0) G...</td>\n",
       "      <td>Freeman</td>\n",
       "      <td>Colin</td>\n",
       "      <td>1.538173e+12</td>\n",
       "      <td>M</td>\n",
       "      <td>Adam Lambert</td>\n",
       "      <td>Time For Miracles</td>\n",
       "      <td>282.82730</td>\n",
       "    </tr>\n",
       "    <tr>\n",
       "      <th>3</th>\n",
       "      <td>1538352416000</td>\n",
       "      <td>9</td>\n",
       "      <td>8</td>\n",
       "      <td>NextSong</td>\n",
       "      <td>Logged In</td>\n",
       "      <td>PUT</td>\n",
       "      <td>200</td>\n",
       "      <td>free</td>\n",
       "      <td>80</td>\n",
       "      <td>Boston-Cambridge-Newton, MA-NH</td>\n",
       "      <td>\"Mozilla/5.0 (Windows NT 6.1; WOW64) AppleWebK...</td>\n",
       "      <td>Long</td>\n",
       "      <td>Micah</td>\n",
       "      <td>1.538332e+12</td>\n",
       "      <td>M</td>\n",
       "      <td>Enigma</td>\n",
       "      <td>Knocking On Forbidden Doors</td>\n",
       "      <td>262.71302</td>\n",
       "    </tr>\n",
       "    <tr>\n",
       "      <th>4</th>\n",
       "      <td>1538352676000</td>\n",
       "      <td>30</td>\n",
       "      <td>29</td>\n",
       "      <td>NextSong</td>\n",
       "      <td>Logged In</td>\n",
       "      <td>PUT</td>\n",
       "      <td>200</td>\n",
       "      <td>paid</td>\n",
       "      <td>52</td>\n",
       "      <td>Bakersfield, CA</td>\n",
       "      <td>Mozilla/5.0 (Windows NT 6.1; WOW64; rv:31.0) G...</td>\n",
       "      <td>Freeman</td>\n",
       "      <td>Colin</td>\n",
       "      <td>1.538173e+12</td>\n",
       "      <td>M</td>\n",
       "      <td>Daft Punk</td>\n",
       "      <td>Harder Better Faster Stronger</td>\n",
       "      <td>223.60771</td>\n",
       "    </tr>\n",
       "  </tbody>\n",
       "</table>\n",
       "</div>"
      ],
      "text/plain": [
       "              ts userId  sessionId      page       auth method  status level  \\\n",
       "0  1538352117000     30         29  NextSong  Logged In    PUT     200  paid   \n",
       "1  1538352180000      9          8  NextSong  Logged In    PUT     200  free   \n",
       "2  1538352394000     30         29  NextSong  Logged In    PUT     200  paid   \n",
       "3  1538352416000      9          8  NextSong  Logged In    PUT     200  free   \n",
       "4  1538352676000     30         29  NextSong  Logged In    PUT     200  paid   \n",
       "\n",
       "   itemInSession                        location  \\\n",
       "0             50                 Bakersfield, CA   \n",
       "1             79  Boston-Cambridge-Newton, MA-NH   \n",
       "2             51                 Bakersfield, CA   \n",
       "3             80  Boston-Cambridge-Newton, MA-NH   \n",
       "4             52                 Bakersfield, CA   \n",
       "\n",
       "                                           userAgent lastName firstName  \\\n",
       "0  Mozilla/5.0 (Windows NT 6.1; WOW64; rv:31.0) G...  Freeman     Colin   \n",
       "1  \"Mozilla/5.0 (Windows NT 6.1; WOW64) AppleWebK...     Long     Micah   \n",
       "2  Mozilla/5.0 (Windows NT 6.1; WOW64; rv:31.0) G...  Freeman     Colin   \n",
       "3  \"Mozilla/5.0 (Windows NT 6.1; WOW64) AppleWebK...     Long     Micah   \n",
       "4  Mozilla/5.0 (Windows NT 6.1; WOW64; rv:31.0) G...  Freeman     Colin   \n",
       "\n",
       "   registration gender            artist                           song  \\\n",
       "0  1.538173e+12      M    Martha Tilston                      Rockpools   \n",
       "1  1.538332e+12      M  Five Iron Frenzy                         Canada   \n",
       "2  1.538173e+12      M      Adam Lambert              Time For Miracles   \n",
       "3  1.538332e+12      M            Enigma    Knocking On Forbidden Doors   \n",
       "4  1.538173e+12      M         Daft Punk  Harder Better Faster Stronger   \n",
       "\n",
       "      length  \n",
       "0  277.89016  \n",
       "1  236.09424  \n",
       "2  282.82730  \n",
       "3  262.71302  \n",
       "4  223.60771  "
      ]
     },
     "execution_count": 4,
     "metadata": {},
     "output_type": "execute_result"
    }
   ],
   "source": [
    "df.head()"
   ]
  },
  {
   "cell_type": "code",
   "execution_count": 5,
   "metadata": {
    "scrolled": true
   },
   "outputs": [
    {
     "data": {
      "text/html": [
       "<div>\n",
       "<style scoped>\n",
       "    .dataframe tbody tr th:only-of-type {\n",
       "        vertical-align: middle;\n",
       "    }\n",
       "\n",
       "    .dataframe tbody tr th {\n",
       "        vertical-align: top;\n",
       "    }\n",
       "\n",
       "    .dataframe thead th {\n",
       "        text-align: right;\n",
       "    }\n",
       "</style>\n",
       "<table border=\"1\" class=\"dataframe\">\n",
       "  <thead>\n",
       "    <tr style=\"text-align: right;\">\n",
       "      <th></th>\n",
       "      <th>ts</th>\n",
       "      <th>sessionId</th>\n",
       "      <th>status</th>\n",
       "      <th>itemInSession</th>\n",
       "      <th>registration</th>\n",
       "      <th>length</th>\n",
       "    </tr>\n",
       "  </thead>\n",
       "  <tbody>\n",
       "    <tr>\n",
       "      <th>count</th>\n",
       "      <td>2.865000e+05</td>\n",
       "      <td>286500.000000</td>\n",
       "      <td>286500.000000</td>\n",
       "      <td>286500.000000</td>\n",
       "      <td>2.781540e+05</td>\n",
       "      <td>228108.000000</td>\n",
       "    </tr>\n",
       "    <tr>\n",
       "      <th>mean</th>\n",
       "      <td>1.540957e+12</td>\n",
       "      <td>1041.526555</td>\n",
       "      <td>210.054597</td>\n",
       "      <td>114.414213</td>\n",
       "      <td>1.535359e+12</td>\n",
       "      <td>249.117182</td>\n",
       "    </tr>\n",
       "    <tr>\n",
       "      <th>std</th>\n",
       "      <td>1.507544e+09</td>\n",
       "      <td>726.776263</td>\n",
       "      <td>31.505078</td>\n",
       "      <td>129.767262</td>\n",
       "      <td>3.291322e+09</td>\n",
       "      <td>99.235179</td>\n",
       "    </tr>\n",
       "    <tr>\n",
       "      <th>min</th>\n",
       "      <td>1.538352e+12</td>\n",
       "      <td>1.000000</td>\n",
       "      <td>200.000000</td>\n",
       "      <td>0.000000</td>\n",
       "      <td>1.521381e+12</td>\n",
       "      <td>0.783220</td>\n",
       "    </tr>\n",
       "    <tr>\n",
       "      <th>25%</th>\n",
       "      <td>1.539697e+12</td>\n",
       "      <td>336.000000</td>\n",
       "      <td>200.000000</td>\n",
       "      <td>27.000000</td>\n",
       "      <td>1.533522e+12</td>\n",
       "      <td>199.888530</td>\n",
       "    </tr>\n",
       "    <tr>\n",
       "      <th>50%</th>\n",
       "      <td>1.540932e+12</td>\n",
       "      <td>1013.000000</td>\n",
       "      <td>200.000000</td>\n",
       "      <td>70.000000</td>\n",
       "      <td>1.536664e+12</td>\n",
       "      <td>234.500770</td>\n",
       "    </tr>\n",
       "    <tr>\n",
       "      <th>75%</th>\n",
       "      <td>1.542266e+12</td>\n",
       "      <td>1675.000000</td>\n",
       "      <td>200.000000</td>\n",
       "      <td>156.250000</td>\n",
       "      <td>1.537672e+12</td>\n",
       "      <td>277.158730</td>\n",
       "    </tr>\n",
       "    <tr>\n",
       "      <th>max</th>\n",
       "      <td>1.543799e+12</td>\n",
       "      <td>2474.000000</td>\n",
       "      <td>404.000000</td>\n",
       "      <td>1321.000000</td>\n",
       "      <td>1.543247e+12</td>\n",
       "      <td>3024.665670</td>\n",
       "    </tr>\n",
       "  </tbody>\n",
       "</table>\n",
       "</div>"
      ],
      "text/plain": [
       "                 ts      sessionId         status  itemInSession  \\\n",
       "count  2.865000e+05  286500.000000  286500.000000  286500.000000   \n",
       "mean   1.540957e+12    1041.526555     210.054597     114.414213   \n",
       "std    1.507544e+09     726.776263      31.505078     129.767262   \n",
       "min    1.538352e+12       1.000000     200.000000       0.000000   \n",
       "25%    1.539697e+12     336.000000     200.000000      27.000000   \n",
       "50%    1.540932e+12    1013.000000     200.000000      70.000000   \n",
       "75%    1.542266e+12    1675.000000     200.000000     156.250000   \n",
       "max    1.543799e+12    2474.000000     404.000000    1321.000000   \n",
       "\n",
       "       registration         length  \n",
       "count  2.781540e+05  228108.000000  \n",
       "mean   1.535359e+12     249.117182  \n",
       "std    3.291322e+09      99.235179  \n",
       "min    1.521381e+12       0.783220  \n",
       "25%    1.533522e+12     199.888530  \n",
       "50%    1.536664e+12     234.500770  \n",
       "75%    1.537672e+12     277.158730  \n",
       "max    1.543247e+12    3024.665670  "
      ]
     },
     "execution_count": 5,
     "metadata": {},
     "output_type": "execute_result"
    }
   ],
   "source": [
    "df.describe()"
   ]
  },
  {
   "cell_type": "markdown",
   "metadata": {},
   "source": [
    "### Data Description"
   ]
  },
  {
   "cell_type": "code",
   "execution_count": 6,
   "metadata": {
    "scrolled": false
   },
   "outputs": [
    {
     "name": "stdout",
     "output_type": "stream",
     "text": [
      "<class 'pandas.core.frame.DataFrame'>\n",
      "RangeIndex: 286500 entries, 0 to 286499\n",
      "Data columns (total 18 columns):\n",
      " #   Column         Non-Null Count   Dtype  \n",
      "---  ------         --------------   -----  \n",
      " 0   ts             286500 non-null  int64  \n",
      " 1   userId         286500 non-null  object \n",
      " 2   sessionId      286500 non-null  int64  \n",
      " 3   page           286500 non-null  object \n",
      " 4   auth           286500 non-null  object \n",
      " 5   method         286500 non-null  object \n",
      " 6   status         286500 non-null  int64  \n",
      " 7   level          286500 non-null  object \n",
      " 8   itemInSession  286500 non-null  int64  \n",
      " 9   location       278154 non-null  object \n",
      " 10  userAgent      278154 non-null  object \n",
      " 11  lastName       278154 non-null  object \n",
      " 12  firstName      278154 non-null  object \n",
      " 13  registration   278154 non-null  float64\n",
      " 14  gender         278154 non-null  object \n",
      " 15  artist         228108 non-null  object \n",
      " 16  song           228108 non-null  object \n",
      " 17  length         228108 non-null  float64\n",
      "dtypes: float64(2), int64(4), object(12)\n",
      "memory usage: 39.3+ MB\n"
     ]
    }
   ],
   "source": [
    "df.info()"
   ]
  },
  {
   "cell_type": "markdown",
   "metadata": {},
   "source": [
    "*  ts (int): event log timestamp\n",
    "*  userId (string): user id\n",
    "*  sessionId (int): session id\n",
    "*  page (string): page name\n",
    "*  auth (string): user authentication status\n",
    "*  method (string): HTTP method\n",
    "*  status: HTTP status\n",
    "*  level: account plan\n",
    "*  itemInSession: \n",
    "*  location: user location\n",
    "*  userAgent: user navigator and SO\n",
    "*  lastName: user last name\n",
    "*  firstName: user first name\n",
    "*  registration: registration date\n",
    "*  gender: user gender\n",
    "*  artist: artist name\n",
    "*  song: song name\n",
    "*  length: song length"
   ]
  },
  {
   "cell_type": "markdown",
   "metadata": {},
   "source": [
    "### Missings values"
   ]
  },
  {
   "cell_type": "markdown",
   "metadata": {},
   "source": [
    " - How many null values by column?"
   ]
  },
  {
   "cell_type": "code",
   "execution_count": 7,
   "metadata": {
    "scrolled": false
   },
   "outputs": [
    {
     "data": {
      "text/plain": [
       "ts                   0\n",
       "userId               0\n",
       "sessionId            0\n",
       "page                 0\n",
       "auth                 0\n",
       "method               0\n",
       "status               0\n",
       "level                0\n",
       "itemInSession        0\n",
       "location          8346\n",
       "userAgent         8346\n",
       "lastName          8346\n",
       "firstName         8346\n",
       "registration      8346\n",
       "gender            8346\n",
       "artist           58392\n",
       "song             58392\n",
       "length           58392\n",
       "dtype: int64"
      ]
     },
     "execution_count": 7,
     "metadata": {},
     "output_type": "execute_result"
    }
   ],
   "source": [
    "df.isna().sum()"
   ]
  },
  {
   "cell_type": "markdown",
   "metadata": {},
   "source": [
    "### Duplicated rows\n",
    "- How many duplicated rows?"
   ]
  },
  {
   "cell_type": "code",
   "execution_count": 8,
   "metadata": {},
   "outputs": [
    {
     "data": {
      "text/plain": [
       "0"
      ]
     },
     "execution_count": 8,
     "metadata": {},
     "output_type": "execute_result"
    }
   ],
   "source": [
    "sum(df.duplicated())"
   ]
  },
  {
   "cell_type": "markdown",
   "metadata": {},
   "source": [
    "### Converting column registration to datetime\n",
    "- There are null values. It's necessary to avoid these rows."
   ]
  },
  {
   "cell_type": "code",
   "execution_count": 9,
   "metadata": {},
   "outputs": [],
   "source": [
    "df['registration'] = df['registration'].map(lambda x: datetime.datetime.fromtimestamp(x / 1000.0) if not math.isnan(x) else 0)"
   ]
  },
  {
   "cell_type": "code",
   "execution_count": 10,
   "metadata": {},
   "outputs": [
    {
     "data": {
      "text/plain": [
       "0    2018-09-28 19:22:42\n",
       "1    2018-09-30 15:20:30\n",
       "2    2018-09-28 19:22:42\n",
       "3    2018-09-30 15:20:30\n",
       "4    2018-09-28 19:22:42\n",
       "Name: registration, dtype: object"
      ]
     },
     "execution_count": 10,
     "metadata": {},
     "output_type": "execute_result"
    }
   ],
   "source": [
    "df['registration'].head()"
   ]
  },
  {
   "cell_type": "markdown",
   "metadata": {},
   "source": [
    "### Converting column ts to datetime"
   ]
  },
  {
   "cell_type": "code",
   "execution_count": 11,
   "metadata": {},
   "outputs": [],
   "source": [
    "df['ts_dt'] = df['ts'].map(lambda x: datetime.datetime.fromtimestamp(x / 1000.0))"
   ]
  },
  {
   "cell_type": "code",
   "execution_count": 12,
   "metadata": {},
   "outputs": [
    {
     "data": {
      "text/plain": [
       "0   2018-09-30 21:01:57\n",
       "1   2018-09-30 21:03:00\n",
       "2   2018-09-30 21:06:34\n",
       "3   2018-09-30 21:06:56\n",
       "4   2018-09-30 21:11:16\n",
       "Name: ts_dt, dtype: datetime64[ns]"
      ]
     },
     "execution_count": 12,
     "metadata": {},
     "output_type": "execute_result"
    }
   ],
   "source": [
    "df['ts_dt'].head()"
   ]
  },
  {
   "cell_type": "markdown",
   "metadata": {},
   "source": [
    "## Data understanding"
   ]
  },
  {
   "cell_type": "markdown",
   "metadata": {},
   "source": [
    "### ts"
   ]
  },
  {
   "cell_type": "markdown",
   "metadata": {},
   "source": [
    "- Early date"
   ]
  },
  {
   "cell_type": "code",
   "execution_count": 13,
   "metadata": {},
   "outputs": [
    {
     "data": {
      "text/plain": [
       "Timestamp('2018-09-30 21:01:57')"
      ]
     },
     "execution_count": 13,
     "metadata": {},
     "output_type": "execute_result"
    }
   ],
   "source": [
    "df['ts_dt'].min()"
   ]
  },
  {
   "cell_type": "markdown",
   "metadata": {},
   "source": [
    "- Late date"
   ]
  },
  {
   "cell_type": "code",
   "execution_count": 14,
   "metadata": {},
   "outputs": [
    {
     "data": {
      "text/plain": [
       "Timestamp('2018-12-02 22:11:16')"
      ]
     },
     "execution_count": 14,
     "metadata": {},
     "output_type": "execute_result"
    }
   ],
   "source": [
    "df['ts_dt'].max()"
   ]
  },
  {
   "cell_type": "markdown",
   "metadata": {},
   "source": [
    "- Interval (days): there are data of 63 days beginning in 2018-09-30"
   ]
  },
  {
   "cell_type": "code",
   "execution_count": 15,
   "metadata": {},
   "outputs": [
    {
     "data": {
      "text/plain": [
       "Timedelta('63 days 01:09:19')"
      ]
     },
     "execution_count": 15,
     "metadata": {},
     "output_type": "execute_result"
    }
   ],
   "source": [
    "df['ts_dt'].max() - df['ts_dt'].min()"
   ]
  },
  {
   "cell_type": "markdown",
   "metadata": {},
   "source": [
    "### userId"
   ]
  },
  {
   "cell_type": "markdown",
   "metadata": {},
   "source": [
    "- How many users?"
   ]
  },
  {
   "cell_type": "code",
   "execution_count": 16,
   "metadata": {},
   "outputs": [
    {
     "data": {
      "text/plain": [
       "226"
      ]
     },
     "execution_count": 16,
     "metadata": {},
     "output_type": "execute_result"
    }
   ],
   "source": [
    "df['userId'].nunique()"
   ]
  },
  {
   "cell_type": "markdown",
   "metadata": {},
   "source": [
    "- How many interactions by user? \n",
    "> The top user had more than 9500 interactions, the minimum of interactions was 6. The mean was about 1200."
   ]
  },
  {
   "cell_type": "code",
   "execution_count": 17,
   "metadata": {
    "scrolled": true
   },
   "outputs": [
    {
     "data": {
      "image/png": "[encoded data removed]",
      "text/plain": [
       "<Figure size 432x288 with 1 Axes>"
      ]
     },
     "metadata": {
      "needs_background": "light"
     },
     "output_type": "display_data"
    }
   ],
   "source": [
    "tdf = df.groupby('userId').size().sort_values(ascending=False)\n",
    "fig, ax = plt.subplots()\n",
    "ax.bar(x=tdf.index,height=tdf.values)\n",
    "ax.set_title(\"Amount of Interactions\")\n",
    "ax.set_xlabel('Users')\n",
    "ax.set_ylabel('Frequency')\n",
    "ax.set_xticklabels('')\n",
    "plt.show()"
   ]
  },
  {
   "cell_type": "code",
   "execution_count": 18,
   "metadata": {
    "scrolled": false
   },
   "outputs": [
    {
     "data": {
      "text/plain": [
       "(1267.6991150442477, 9632, 6)"
      ]
     },
     "execution_count": 18,
     "metadata": {},
     "output_type": "execute_result"
    }
   ],
   "source": [
    "tdf.values.mean(),tdf.values.max(),tdf.values.min()"
   ]
  },
  {
   "cell_type": "markdown",
   "metadata": {},
   "source": [
    "### page"
   ]
  },
  {
   "cell_type": "markdown",
   "metadata": {},
   "source": [
    "- There are what kind of pages?\n",
    "> There are 22 kinds of pages."
   ]
  },
  {
   "cell_type": "code",
   "execution_count": 19,
   "metadata": {},
   "outputs": [
    {
     "data": {
      "text/plain": [
       "22"
      ]
     },
     "execution_count": 19,
     "metadata": {},
     "output_type": "execute_result"
    }
   ],
   "source": [
    "df['page'].nunique()"
   ]
  },
  {
   "cell_type": "markdown",
   "metadata": {},
   "source": [
    "- How many interactions  with each one?\n",
    "> Next song page is the most clicked."
   ]
  },
  {
   "cell_type": "code",
   "execution_count": 20,
   "metadata": {},
   "outputs": [
    {
     "data": {
      "image/png": "[encoded data removed]",
      "text/plain": [
       "<Figure size 432x288 with 1 Axes>"
      ]
     },
     "metadata": {
      "needs_background": "light"
     },
     "output_type": "display_data"
    }
   ],
   "source": [
    "tdf = df.groupby('page').size().sort_values(ascending=True)\n",
    "fig, ax = plt.subplots()\n",
    "ax.barh(y=tdf.index,width=tdf.values)\n",
    "ax.set_title(\"Amount of Interactions\")\n",
    "ax.set_xlabel('Frequency')\n",
    "ax.set_ylabel('Pages')\n",
    "plt.show()"
   ]
  },
  {
   "cell_type": "markdown",
   "metadata": {},
   "source": [
    "### auth"
   ]
  },
  {
   "cell_type": "code",
   "execution_count": 21,
   "metadata": {},
   "outputs": [
    {
     "data": {
      "image/png": "[encoded data removed]",
      "text/plain": [
       "<Figure size 432x288 with 1 Axes>"
      ]
     },
     "metadata": {
      "needs_background": "light"
     },
     "output_type": "display_data"
    }
   ],
   "source": [
    "tdf = df.groupby('auth').size().sort_values(ascending=True)\n",
    "fig, ax = plt.subplots()\n",
    "ax.barh(y=tdf.index,width=tdf.values)\n",
    "ax.set_title(\"Amount of each authorizations is used\")\n",
    "ax.set_xlabel('Frequency')\n",
    "ax.set_ylabel('Types of Authorizations')\n",
    "plt.show()"
   ]
  },
  {
   "cell_type": "markdown",
   "metadata": {},
   "source": [
    "### method"
   ]
  },
  {
   "cell_type": "markdown",
   "metadata": {},
   "source": [
    "- There are how many methods?\n",
    "> There are 2 types: PUT and GET. The major is to send commands (PUT) through the plataform like `Next song`."
   ]
  },
  {
   "cell_type": "code",
   "execution_count": 22,
   "metadata": {
    "scrolled": true
   },
   "outputs": [
    {
     "data": {
      "image/png": "[encoded data removed]",
      "text/plain": [
       "<Figure size 432x288 with 1 Axes>"
      ]
     },
     "metadata": {
      "needs_background": "light"
     },
     "output_type": "display_data"
    }
   ],
   "source": [
    "tdf = df.groupby('method').size().sort_values(ascending=True)\n",
    "fig, ax = plt.subplots()\n",
    "ax.barh(y=tdf.index,width=tdf.values)\n",
    "ax.set_title(\"Amount of each method is used\")\n",
    "ax.set_xlabel('Frequency')\n",
    "ax.set_ylabel('Types of Methods')\n",
    "plt.show()"
   ]
  },
  {
   "cell_type": "markdown",
   "metadata": {},
   "source": [
    "### status"
   ]
  },
  {
   "cell_type": "markdown",
   "metadata": {},
   "source": [
    "- What are the status can user receive?\n",
    "> The status `200` means success and `307` is temporary redirection. 90% of time the user access the page with no problem, 9% of time the user is redirected. So, 99% of time the service is avaliable."
   ]
  },
  {
   "cell_type": "code",
   "execution_count": 23,
   "metadata": {},
   "outputs": [
    {
     "data": {
      "image/png": "[encoded data removed]",
      "text/plain": [
       "<Figure size 432x288 with 1 Axes>"
      ]
     },
     "metadata": {
      "needs_background": "light"
     },
     "output_type": "display_data"
    }
   ],
   "source": [
    "tdf = df.groupby('status').size().sort_values(ascending=False)\n",
    "tdf = tdf/tdf.sum()\n",
    "fig, ax = plt.subplots()\n",
    "ax.bar(x=list(map(str, tdf.index)),height=tdf.values)\n",
    "ax.set_title(\"Amount of each Status is received\")\n",
    "ax.set_xlabel('Types of Status')\n",
    "ax.set_ylabel('Proportion')\n",
    "plt.show()"
   ]
  },
  {
   "cell_type": "markdown",
   "metadata": {},
   "source": [
    "### level"
   ]
  },
  {
   "cell_type": "markdown",
   "metadata": {},
   "source": [
    "- What are the levels?\n",
    "> `80%` of requests are `Paid` while just `20%` are `Free`."
   ]
  },
  {
   "cell_type": "code",
   "execution_count": 24,
   "metadata": {
    "scrolled": false
   },
   "outputs": [
    {
     "data": {
      "image/png": "[encoded data removed]",
      "text/plain": [
       "<Figure size 432x288 with 1 Axes>"
      ]
     },
     "metadata": {
      "needs_background": "light"
     },
     "output_type": "display_data"
    }
   ],
   "source": [
    "tdf = df.groupby('level').size().sort_values(ascending=False)\n",
    "tdf = tdf/tdf.sum()\n",
    "fig, ax = plt.subplots()\n",
    "ax.bar(x=list(map(str, tdf.index)),height=tdf.values)\n",
    "ax.set_title(\"Amount of each Status is received\")\n",
    "ax.set_xlabel('Types of Status')\n",
    "ax.set_ylabel('Proportion')\n",
    "plt.show()"
   ]
  },
  {
   "cell_type": "markdown",
   "metadata": {},
   "source": [
    "### location"
   ]
  },
  {
   "cell_type": "markdown",
   "metadata": {},
   "source": [
    "- How many differents locations?"
   ]
  },
  {
   "cell_type": "code",
   "execution_count": 25,
   "metadata": {},
   "outputs": [
    {
     "data": {
      "text/plain": [
       "114"
      ]
     },
     "execution_count": 25,
     "metadata": {},
     "output_type": "execute_result"
    }
   ],
   "source": [
    "df['location'].nunique()"
   ]
  },
  {
   "cell_type": "markdown",
   "metadata": {},
   "source": [
    "- What are the locations (city, state)?"
   ]
  },
  {
   "cell_type": "code",
   "execution_count": 26,
   "metadata": {},
   "outputs": [
    {
     "data": {
      "text/html": [
       "<div>\n",
       "<style scoped>\n",
       "    .dataframe tbody tr th:only-of-type {\n",
       "        vertical-align: middle;\n",
       "    }\n",
       "\n",
       "    .dataframe tbody tr th {\n",
       "        vertical-align: top;\n",
       "    }\n",
       "\n",
       "    .dataframe thead th {\n",
       "        text-align: right;\n",
       "    }\n",
       "</style>\n",
       "<table border=\"1\" class=\"dataframe\">\n",
       "  <thead>\n",
       "    <tr style=\"text-align: right;\">\n",
       "      <th></th>\n",
       "      <th>city</th>\n",
       "      <th>state</th>\n",
       "    </tr>\n",
       "  </thead>\n",
       "  <tbody>\n",
       "    <tr>\n",
       "      <th>0</th>\n",
       "      <td>Bakersfield</td>\n",
       "      <td>CA</td>\n",
       "    </tr>\n",
       "    <tr>\n",
       "      <th>1</th>\n",
       "      <td>Boston-Cambridge-Newton</td>\n",
       "      <td>MA-NH</td>\n",
       "    </tr>\n",
       "    <tr>\n",
       "      <th>2</th>\n",
       "      <td>Bakersfield</td>\n",
       "      <td>CA</td>\n",
       "    </tr>\n",
       "    <tr>\n",
       "      <th>3</th>\n",
       "      <td>Boston-Cambridge-Newton</td>\n",
       "      <td>MA-NH</td>\n",
       "    </tr>\n",
       "    <tr>\n",
       "      <th>4</th>\n",
       "      <td>Bakersfield</td>\n",
       "      <td>CA</td>\n",
       "    </tr>\n",
       "  </tbody>\n",
       "</table>\n",
       "</div>"
      ],
      "text/plain": [
       "                      city   state\n",
       "0              Bakersfield      CA\n",
       "1  Boston-Cambridge-Newton   MA-NH\n",
       "2              Bakersfield      CA\n",
       "3  Boston-Cambridge-Newton   MA-NH\n",
       "4              Bakersfield      CA"
      ]
     },
     "execution_count": 26,
     "metadata": {},
     "output_type": "execute_result"
    }
   ],
   "source": [
    "tdf = df['location'].str.split(',',n = 1, expand = True)\n",
    "df['city'] = tdf[0]\n",
    "df['state'] = tdf[1]\n",
    "df[['city','state']].head()"
   ]
  },
  {
   "cell_type": "markdown",
   "metadata": {},
   "source": [
    "- Where are the users from?"
   ]
  },
  {
   "cell_type": "code",
   "execution_count": 27,
   "metadata": {},
   "outputs": [
    {
     "data": {
      "image/png": "[encoded data removed]",
      "text/plain": [
       "<Figure size 1080x360 with 1 Axes>"
      ]
     },
     "metadata": {
      "needs_background": "light"
     },
     "output_type": "display_data"
    }
   ],
   "source": [
    "tdf = df.groupby('state').size().sort_values(ascending=False)\n",
    "fig, ax = plt.subplots(figsize=(15,5))\n",
    "ax.bar(x=list(map(str, tdf)),height=tdf.values)\n",
    "ax.set_title(\"Amount of interactions by state\")\n",
    "ax.set_xlabel('States')\n",
    "ax.set_ylabel('Frequency')\n",
    "plt.xticks(rotation=90)\n",
    "plt.show()"
   ]
  },
  {
   "cell_type": "code",
   "execution_count": 28,
   "metadata": {
    "scrolled": true
   },
   "outputs": [
    {
     "data": {
      "image/png": "[encoded data removed]",
      "text/plain": [
       "<Figure size 1440x216 with 1 Axes>"
      ]
     },
     "metadata": {
      "needs_background": "light"
     },
     "output_type": "display_data"
    }
   ],
   "source": [
    "tdf = df.groupby('city').size().sort_values(ascending=False)\n",
    "fig, ax = plt.subplots(figsize=(20,3))\n",
    "ax.bar(x=list(map(str, tdf.index)),height=tdf.values)\n",
    "ax.set_title(\"Amount of interactions by city\")\n",
    "ax.set_xlabel('City')\n",
    "ax.set_ylabel('Frequency')\n",
    "plt.xticks(rotation=90)\n",
    "plt.show()"
   ]
  },
  {
   "cell_type": "markdown",
   "metadata": {},
   "source": [
    "### userAgent"
   ]
  },
  {
   "cell_type": "markdown",
   "metadata": {},
   "source": [
    "- What are the userAgents?"
   ]
  },
  {
   "cell_type": "code",
   "execution_count": 29,
   "metadata": {},
   "outputs": [
    {
     "data": {
      "image/png": "[encoded data removed]",
      "text/plain": [
       "<Figure size 1440x216 with 1 Axes>"
      ]
     },
     "metadata": {
      "needs_background": "light"
     },
     "output_type": "display_data"
    }
   ],
   "source": [
    "tdf = df.groupby('userAgent').size().sort_values(ascending=False)\n",
    "fig, ax = plt.subplots(figsize=(20,3))\n",
    "ax.bar(x=list(map(str, tdf.index)),height=tdf.values)\n",
    "ax.set_title(\"Amount of interactions by city\")\n",
    "ax.set_xlabel('City')\n",
    "ax.set_ylabel('Frequency')\n",
    "plt.xticks(rotation=90)\n",
    "plt.show()"
   ]
  },
  {
   "cell_type": "markdown",
   "metadata": {},
   "source": [
    "- Identify specific Plataforms\n",
    "> Where is the Android Plataform? We can see the Windows and Macintosh have more participation in interactions. They are not mobile plataform, so the Android should not appears."
   ]
  },
  {
   "cell_type": "code",
   "execution_count": 30,
   "metadata": {},
   "outputs": [],
   "source": [
    "#lambda x:x.split('(')[1].split(';')[0].split(')')[0]\n",
    "def process_userAgent(userAgent):\n",
    "    part1 = userAgent.split('(')[1]\n",
    "    \n",
    "    if('X11' not in part1):\n",
    "        part2 = part1.split(';')[0].split()[0]\n",
    "    else:\n",
    "        part2 = part1.split(';')[1].split(')')[0].split()[0]\n",
    "        \n",
    "    return part2"
   ]
  },
  {
   "cell_type": "code",
   "execution_count": 31,
   "metadata": {
    "scrolled": true
   },
   "outputs": [],
   "source": [
    "tdf = df[df['userAgent'].notnull()]['userAgent'].apply(process_userAgent).value_counts()"
   ]
  },
  {
   "cell_type": "code",
   "execution_count": 32,
   "metadata": {
    "scrolled": true
   },
   "outputs": [
    {
     "data": {
      "image/png": "[encoded data removed]",
      "text/plain": [
       "<Figure size 360x216 with 1 Axes>"
      ]
     },
     "metadata": {
      "needs_background": "light"
     },
     "output_type": "display_data"
    }
   ],
   "source": [
    "fig, ax = plt.subplots(figsize=(5,3))\n",
    "ax.bar(x=list(map(str, tdf.index)),height=tdf.values)\n",
    "ax.set_title(\"Amount of interactions by Plataform\")\n",
    "ax.set_xlabel('Plataform')\n",
    "ax.set_ylabel('Frequency')\n",
    "plt.xticks(rotation=90)\n",
    "plt.show()"
   ]
  },
  {
   "cell_type": "markdown",
   "metadata": {},
   "source": [
    "### lastName"
   ]
  },
  {
   "cell_type": "markdown",
   "metadata": {},
   "source": [
    "- What are the 20 most comum names?\n"
   ]
  },
  {
   "cell_type": "code",
   "execution_count": 33,
   "metadata": {},
   "outputs": [
    {
     "data": {
      "image/png": "[encoded data removed]",
      "text/plain": [
       "<Figure size 360x216 with 1 Axes>"
      ]
     },
     "metadata": {
      "needs_background": "light"
     },
     "output_type": "display_data"
    }
   ],
   "source": [
    "tdf = df.groupby(['userId','lastName']).size().sort_values(ascending=False)\n",
    "tdf =tdf.reset_index().head(20)\n",
    "fig, ax = plt.subplots(figsize=(5,3))\n",
    "ax.bar(x=tdf['lastName'],height=tdf[0])\n",
    "ax.set_title(\"Most frequently users last name\")\n",
    "ax.set_xlabel('Last name')\n",
    "ax.set_ylabel('Frequency')\n",
    "plt.xticks(rotation=90)\n",
    "plt.show()"
   ]
  },
  {
   "cell_type": "markdown",
   "metadata": {},
   "source": [
    "### firstName"
   ]
  },
  {
   "cell_type": "markdown",
   "metadata": {},
   "source": [
    "- What are the 20 most comum names?"
   ]
  },
  {
   "cell_type": "code",
   "execution_count": 34,
   "metadata": {
    "scrolled": true
   },
   "outputs": [
    {
     "data": {
      "image/png": "[encoded data removed]",
      "text/plain": [
       "<Figure size 360x216 with 1 Axes>"
      ]
     },
     "metadata": {
      "needs_background": "light"
     },
     "output_type": "display_data"
    }
   ],
   "source": [
    "tdf = df.groupby(['userId','firstName']).size().sort_values(ascending=False)\n",
    "tdf =tdf.reset_index().head(20)\n",
    "fig, ax = plt.subplots(figsize=(5,3))\n",
    "ax.bar(x=tdf['firstName'],height=tdf[0])\n",
    "ax.set_title(\"Most frequently users first name\")\n",
    "ax.set_xlabel('First name')\n",
    "ax.set_ylabel('Frequency')\n",
    "plt.xticks(rotation=90)\n",
    "plt.show()"
   ]
  },
  {
   "cell_type": "markdown",
   "metadata": {},
   "source": [
    "### registration"
   ]
  },
  {
   "cell_type": "markdown",
   "metadata": {},
   "source": [
    "- which date has more registrations?"
   ]
  },
  {
   "cell_type": "code",
   "execution_count": 35,
   "metadata": {},
   "outputs": [
    {
     "data": {
      "text/plain": [
       "0         2018-09-28 19:22:42\n",
       "1         2018-09-30 15:20:30\n",
       "2         2018-09-28 19:22:42\n",
       "3         2018-09-30 15:20:30\n",
       "4         2018-09-28 19:22:42\n",
       "                 ...         \n",
       "286495                      0\n",
       "286496                      0\n",
       "286497    2018-09-30 16:46:11\n",
       "286498    2018-09-30 16:46:11\n",
       "286499    2018-09-30 16:46:11\n",
       "Name: registration, Length: 286500, dtype: object"
      ]
     },
     "execution_count": 35,
     "metadata": {},
     "output_type": "execute_result"
    }
   ],
   "source": [
    "df['registration']"
   ]
  },
  {
   "cell_type": "markdown",
   "metadata": {},
   "source": [
    "- Registration year\n",
    "> All registrations occured in 2018."
   ]
  },
  {
   "cell_type": "code",
   "execution_count": 36,
   "metadata": {
    "scrolled": false
   },
   "outputs": [
    {
     "data": {
      "text/plain": [
       "0    2018\n",
       "1    2018\n",
       "2    2018\n",
       "3    2018\n",
       "4    2018\n",
       "Name: registration_year, dtype: int64"
      ]
     },
     "execution_count": 36,
     "metadata": {},
     "output_type": "execute_result"
    }
   ],
   "source": [
    "df['registration_year'] = df['registration'].map(lambda x: x.year if x != 0 else 0)\n",
    "df['registration_year'].head()"
   ]
  },
  {
   "cell_type": "code",
   "execution_count": 37,
   "metadata": {},
   "outputs": [],
   "source": [
    "tdf = df.groupby(['userId','registration_year']).size().sort_values(ascending=False)\n",
    "tdf =tdf.reset_index().head(20)"
   ]
  },
  {
   "cell_type": "markdown",
   "metadata": {},
   "source": [
    "- Registration month"
   ]
  },
  {
   "cell_type": "code",
   "execution_count": 38,
   "metadata": {},
   "outputs": [
    {
     "data": {
      "text/plain": [
       "0    9\n",
       "1    9\n",
       "2    9\n",
       "3    9\n",
       "4    9\n",
       "Name: registration_month, dtype: int64"
      ]
     },
     "execution_count": 38,
     "metadata": {},
     "output_type": "execute_result"
    }
   ],
   "source": [
    "df['registration_month'] = df['registration'].map(lambda x: x.month if x != 0 else 0)\n",
    "df['registration_month'].head()"
   ]
  },
  {
   "cell_type": "code",
   "execution_count": 39,
   "metadata": {},
   "outputs": [
    {
     "data": {
      "text/plain": [
       "registration_month\n",
       "0       1\n",
       "3       1\n",
       "5       2\n",
       "6      10\n",
       "7      28\n",
       "8      50\n",
       "9     129\n",
       "10      1\n",
       "11      4\n",
       "dtype: int64"
      ]
     },
     "execution_count": 39,
     "metadata": {},
     "output_type": "execute_result"
    }
   ],
   "source": [
    "tdf = df.groupby(['userId','registration_month']).size().sort_values(ascending=False)\n",
    "tdf = tdf.reset_index()\n",
    "tdf = tdf.groupby('registration_month').size()\n",
    "tdf"
   ]
  },
  {
   "cell_type": "code",
   "execution_count": 40,
   "metadata": {},
   "outputs": [
    {
     "data": {
      "image/png": "[encoded data removed]",
      "text/plain": [
       "<Figure size 720x216 with 1 Axes>"
      ]
     },
     "metadata": {
      "needs_background": "light"
     },
     "output_type": "display_data"
    }
   ],
   "source": [
    "tdf = df.groupby(['userId','registration_month']).size().sort_values(ascending=False)\n",
    "tdf = tdf.reset_index()\n",
    "tdf = tdf.groupby('registration_month').size()\n",
    "fig, ax = plt.subplots(figsize=(10,3))\n",
    "tdf = tdf[tdf.index != 0]\n",
    "ax.bar(x=list(map(str, tdf.index)),height=tdf.values)\n",
    "ax.set_title(\"Amount of registration by month\")\n",
    "ax.set_xlabel('Month')\n",
    "ax.set_ylabel('Frequency')\n",
    "plt.xticks(rotation=90)\n",
    "plt.show()"
   ]
  },
  {
   "cell_type": "markdown",
   "metadata": {},
   "source": [
    "- Registration day\n",
    "> The days zero are the rows with no date."
   ]
  },
  {
   "cell_type": "code",
   "execution_count": 41,
   "metadata": {
    "scrolled": true
   },
   "outputs": [
    {
     "data": {
      "text/plain": [
       "0    28\n",
       "1    30\n",
       "2    28\n",
       "3    30\n",
       "4    28\n",
       "Name: registration_day, dtype: int64"
      ]
     },
     "execution_count": 41,
     "metadata": {},
     "output_type": "execute_result"
    }
   ],
   "source": [
    "df['registration_day'] = df['registration'].map(lambda x: x.day if x != 0 else 0)\n",
    "df['registration_day'].head()"
   ]
  },
  {
   "cell_type": "markdown",
   "metadata": {},
   "source": [
    "- Creating a new colum to concatenate the month and day\n",
    "> The registrations occured more between 11/09 and 30/09."
   ]
  },
  {
   "cell_type": "code",
   "execution_count": 42,
   "metadata": {
    "scrolled": true
   },
   "outputs": [],
   "source": [
    "df['registration_weekday'] = df['registration'].map(lambda x: calendar.day_name[x.weekday()] if x != 0 else 0)\n",
    "tdf = df.groupby(['userId','registration_month','registration_day','registration_weekday']).size().sort_values(ascending=False)\n",
    "tdf = tdf.reset_index()\n",
    "tdf = tdf.groupby(['registration_month','registration_day','registration_weekday']).size()\n",
    "tdf = tdf.reset_index()\n",
    "tdf['date'] = tdf['registration_day'].apply(str)+'/'+tdf['registration_month'].apply(str)"
   ]
  },
  {
   "cell_type": "code",
   "execution_count": 43,
   "metadata": {},
   "outputs": [
    {
     "data": {
      "text/html": [
       "<div>\n",
       "<style scoped>\n",
       "    .dataframe tbody tr th:only-of-type {\n",
       "        vertical-align: middle;\n",
       "    }\n",
       "\n",
       "    .dataframe tbody tr th {\n",
       "        vertical-align: top;\n",
       "    }\n",
       "\n",
       "    .dataframe thead th {\n",
       "        text-align: right;\n",
       "    }\n",
       "</style>\n",
       "<table border=\"1\" class=\"dataframe\">\n",
       "  <thead>\n",
       "    <tr style=\"text-align: right;\">\n",
       "      <th></th>\n",
       "      <th>registration_month</th>\n",
       "      <th>registration_day</th>\n",
       "      <th>registration_weekday</th>\n",
       "      <th>0</th>\n",
       "      <th>date</th>\n",
       "    </tr>\n",
       "  </thead>\n",
       "  <tbody>\n",
       "    <tr>\n",
       "      <th>1</th>\n",
       "      <td>3</td>\n",
       "      <td>18</td>\n",
       "      <td>Sunday</td>\n",
       "      <td>1</td>\n",
       "      <td>18/3</td>\n",
       "    </tr>\n",
       "    <tr>\n",
       "      <th>2</th>\n",
       "      <td>5</td>\n",
       "      <td>19</td>\n",
       "      <td>Saturday</td>\n",
       "      <td>1</td>\n",
       "      <td>19/5</td>\n",
       "    </tr>\n",
       "    <tr>\n",
       "      <th>3</th>\n",
       "      <td>5</td>\n",
       "      <td>20</td>\n",
       "      <td>Sunday</td>\n",
       "      <td>1</td>\n",
       "      <td>20/5</td>\n",
       "    </tr>\n",
       "    <tr>\n",
       "      <th>4</th>\n",
       "      <td>6</td>\n",
       "      <td>7</td>\n",
       "      <td>Thursday</td>\n",
       "      <td>1</td>\n",
       "      <td>7/6</td>\n",
       "    </tr>\n",
       "    <tr>\n",
       "      <th>5</th>\n",
       "      <td>6</td>\n",
       "      <td>9</td>\n",
       "      <td>Saturday</td>\n",
       "      <td>1</td>\n",
       "      <td>9/6</td>\n",
       "    </tr>\n",
       "  </tbody>\n",
       "</table>\n",
       "</div>"
      ],
      "text/plain": [
       "   registration_month  registration_day registration_weekday  0  date\n",
       "1                   3                18               Sunday  1  18/3\n",
       "2                   5                19             Saturday  1  19/5\n",
       "3                   5                20               Sunday  1  20/5\n",
       "4                   6                 7             Thursday  1   7/6\n",
       "5                   6                 9             Saturday  1   9/6"
      ]
     },
     "execution_count": 43,
     "metadata": {},
     "output_type": "execute_result"
    }
   ],
   "source": [
    "tdf = tdf[tdf.index != 0]\n",
    "tdf.head()"
   ]
  },
  {
   "cell_type": "code",
   "execution_count": 44,
   "metadata": {
    "scrolled": true
   },
   "outputs": [
    {
     "data": {
      "image/png": "[encoded data removed]",
      "text/plain": [
       "<Figure size 1440x216 with 1 Axes>"
      ]
     },
     "metadata": {
      "needs_background": "light"
     },
     "output_type": "display_data"
    }
   ],
   "source": [
    "fig, ax = plt.subplots(figsize=(20,3))\n",
    "ax.bar(x=tdf['date'],height=tdf[0])\n",
    "ax.set_title(\"Amount of registration by day\")\n",
    "ax.set_xlabel('Day')\n",
    "ax.set_ylabel('Frequency')\n",
    "plt.xticks(rotation=90)\n",
    "plt.show()"
   ]
  },
  {
   "cell_type": "code",
   "execution_count": 45,
   "metadata": {},
   "outputs": [
    {
     "data": {
      "image/png": "[encoded data removed]",
      "text/plain": [
       "<Figure size 1440x216 with 1 Axes>"
      ]
     },
     "metadata": {
      "needs_background": "light"
     },
     "output_type": "display_data"
    }
   ],
   "source": [
    "fig, ax = plt.subplots(figsize=(20,3))\n",
    "ax.bar(x=tdf['date'],height=tdf[0])\n",
    "ax.set_title(\"Amount of registration by day\")\n",
    "ax.set_xlabel('Day')\n",
    "ax.set_ylabel('Frequency')\n",
    "plt.xticks(range(len(tdf['date'])), tdf['registration_weekday'],rotation=90)\n",
    "plt.show()"
   ]
  },
  {
   "cell_type": "markdown",
   "metadata": {},
   "source": [
    "- Counting registrations by weekday\n",
    "> The number of registrations by weekday are similar."
   ]
  },
  {
   "cell_type": "code",
   "execution_count": 46,
   "metadata": {},
   "outputs": [],
   "source": [
    "tdf = df.groupby(['userId','registration_weekday']).size()\n",
    "tdf.reset_index()\n",
    "tdf = tdf.groupby('registration_weekday').size()\n",
    "tdf = tdf.reset_index()\n",
    "tdf = tdf[tdf.index != 0]"
   ]
  },
  {
   "cell_type": "code",
   "execution_count": 47,
   "metadata": {},
   "outputs": [],
   "source": [
    "# Converting column registration_weekday to categorical to enable to sort\n",
    "tdf['registration_weekday'] = pd.Categorical(tdf['registration_weekday'], categories=\n",
    "    ['Monday','Tuesday','Wednesday','Thursday','Friday','Saturday', 'Sunday'],\n",
    "    ordered=True)"
   ]
  },
  {
   "cell_type": "code",
   "execution_count": 48,
   "metadata": {},
   "outputs": [],
   "source": [
    "# Ordering the column\n",
    "tdf = tdf.sort_values(by=['registration_weekday'])"
   ]
  },
  {
   "cell_type": "code",
   "execution_count": 49,
   "metadata": {
    "scrolled": true
   },
   "outputs": [
    {
     "data": {
      "image/png": "[encoded data removed]",
      "text/plain": [
       "<Figure size 1440x216 with 1 Axes>"
      ]
     },
     "metadata": {
      "needs_background": "light"
     },
     "output_type": "display_data"
    }
   ],
   "source": [
    "fig, ax = plt.subplots(figsize=(20,3))\n",
    "ax.bar(x=tdf['registration_weekday'].apply(str),height=tdf[0])\n",
    "ax.set_title(\"Amount of registration by weekday\")\n",
    "ax.set_xlabel('Day')\n",
    "ax.set_ylabel('Frequency')\n",
    "plt.xticks(rotation=90)\n",
    "plt.show()"
   ]
  },
  {
   "cell_type": "markdown",
   "metadata": {},
   "source": [
    "- Registration hour"
   ]
  },
  {
   "cell_type": "code",
   "execution_count": 50,
   "metadata": {},
   "outputs": [
    {
     "data": {
      "text/plain": [
       "0    19\n",
       "1    15\n",
       "2    19\n",
       "3    15\n",
       "4    19\n",
       "Name: registration_hour, dtype: int64"
      ]
     },
     "execution_count": 50,
     "metadata": {},
     "output_type": "execute_result"
    }
   ],
   "source": [
    "df['registration_hour'] = df['registration'].map(lambda x: x.hour if x != 0 else 0)\n",
    "df['registration_hour'].head()"
   ]
  },
  {
   "cell_type": "code",
   "execution_count": 51,
   "metadata": {},
   "outputs": [],
   "source": [
    "tdf = df.groupby(['userId','registration_hour']).size()\n",
    "tdf.reset_index()\n",
    "tdf = tdf.groupby('registration_hour').size()\n",
    "tdf = tdf.reset_index()\n",
    "tdf = tdf[tdf.index != 0]"
   ]
  },
  {
   "cell_type": "code",
   "execution_count": 52,
   "metadata": {
    "scrolled": true
   },
   "outputs": [
    {
     "data": {
      "image/png": "[encoded data removed]",
      "text/plain": [
       "<Figure size 1440x216 with 1 Axes>"
      ]
     },
     "metadata": {
      "needs_background": "light"
     },
     "output_type": "display_data"
    }
   ],
   "source": [
    "fig, ax = plt.subplots(figsize=(20,3))\n",
    "ax.bar(x=tdf['registration_hour'].apply(str),height=tdf[0])\n",
    "ax.set_title(\"Amount of registration by hour\")\n",
    "ax.set_xlabel('Hour')\n",
    "ax.set_ylabel('Frequency')\n",
    "plt.xticks(rotation=90)\n",
    "plt.show()"
   ]
  },
  {
   "cell_type": "markdown",
   "metadata": {},
   "source": [
    "- gender\n",
    "> There are more women than men."
   ]
  },
  {
   "cell_type": "code",
   "execution_count": 53,
   "metadata": {},
   "outputs": [],
   "source": [
    "tdf = df.groupby(['userId','gender']).size()\n",
    "tdf.reset_index()\n",
    "tdf = tdf.groupby('gender').size()\n",
    "tdf = tdf.reset_index()"
   ]
  },
  {
   "cell_type": "markdown",
   "metadata": {},
   "source": [
    "### Creating Churn Dataframe"
   ]
  },
  {
   "cell_type": "code",
   "execution_count": 54,
   "metadata": {},
   "outputs": [],
   "source": [
    "# Copying the original dataframe\n",
    "df_churn = df.copy()"
   ]
  },
  {
   "cell_type": "code",
   "execution_count": 55,
   "metadata": {},
   "outputs": [
    {
     "data": {
      "text/html": [
       "<div>\n",
       "<style scoped>\n",
       "    .dataframe tbody tr th:only-of-type {\n",
       "        vertical-align: middle;\n",
       "    }\n",
       "\n",
       "    .dataframe tbody tr th {\n",
       "        vertical-align: top;\n",
       "    }\n",
       "\n",
       "    .dataframe thead th {\n",
       "        text-align: right;\n",
       "    }\n",
       "</style>\n",
       "<table border=\"1\" class=\"dataframe\">\n",
       "  <thead>\n",
       "    <tr style=\"text-align: right;\">\n",
       "      <th></th>\n",
       "      <th>ts</th>\n",
       "      <th>userId</th>\n",
       "      <th>sessionId</th>\n",
       "      <th>page</th>\n",
       "      <th>auth</th>\n",
       "      <th>method</th>\n",
       "      <th>status</th>\n",
       "      <th>level</th>\n",
       "      <th>itemInSession</th>\n",
       "      <th>location</th>\n",
       "      <th>...</th>\n",
       "      <th>length</th>\n",
       "      <th>ts_dt</th>\n",
       "      <th>city</th>\n",
       "      <th>state</th>\n",
       "      <th>registration_year</th>\n",
       "      <th>registration_month</th>\n",
       "      <th>registration_day</th>\n",
       "      <th>registration_weekday</th>\n",
       "      <th>registration_hour</th>\n",
       "      <th>churn</th>\n",
       "    </tr>\n",
       "  </thead>\n",
       "  <tbody>\n",
       "    <tr>\n",
       "      <th>0</th>\n",
       "      <td>1538352117000</td>\n",
       "      <td>30</td>\n",
       "      <td>29</td>\n",
       "      <td>NextSong</td>\n",
       "      <td>Logged In</td>\n",
       "      <td>PUT</td>\n",
       "      <td>200</td>\n",
       "      <td>paid</td>\n",
       "      <td>50</td>\n",
       "      <td>Bakersfield, CA</td>\n",
       "      <td>...</td>\n",
       "      <td>277.89016</td>\n",
       "      <td>2018-09-30 21:01:57</td>\n",
       "      <td>Bakersfield</td>\n",
       "      <td>CA</td>\n",
       "      <td>2018</td>\n",
       "      <td>9</td>\n",
       "      <td>28</td>\n",
       "      <td>Friday</td>\n",
       "      <td>19</td>\n",
       "      <td>False</td>\n",
       "    </tr>\n",
       "    <tr>\n",
       "      <th>1</th>\n",
       "      <td>1538352180000</td>\n",
       "      <td>9</td>\n",
       "      <td>8</td>\n",
       "      <td>NextSong</td>\n",
       "      <td>Logged In</td>\n",
       "      <td>PUT</td>\n",
       "      <td>200</td>\n",
       "      <td>free</td>\n",
       "      <td>79</td>\n",
       "      <td>Boston-Cambridge-Newton, MA-NH</td>\n",
       "      <td>...</td>\n",
       "      <td>236.09424</td>\n",
       "      <td>2018-09-30 21:03:00</td>\n",
       "      <td>Boston-Cambridge-Newton</td>\n",
       "      <td>MA-NH</td>\n",
       "      <td>2018</td>\n",
       "      <td>9</td>\n",
       "      <td>30</td>\n",
       "      <td>Sunday</td>\n",
       "      <td>15</td>\n",
       "      <td>False</td>\n",
       "    </tr>\n",
       "    <tr>\n",
       "      <th>2</th>\n",
       "      <td>1538352394000</td>\n",
       "      <td>30</td>\n",
       "      <td>29</td>\n",
       "      <td>NextSong</td>\n",
       "      <td>Logged In</td>\n",
       "      <td>PUT</td>\n",
       "      <td>200</td>\n",
       "      <td>paid</td>\n",
       "      <td>51</td>\n",
       "      <td>Bakersfield, CA</td>\n",
       "      <td>...</td>\n",
       "      <td>282.82730</td>\n",
       "      <td>2018-09-30 21:06:34</td>\n",
       "      <td>Bakersfield</td>\n",
       "      <td>CA</td>\n",
       "      <td>2018</td>\n",
       "      <td>9</td>\n",
       "      <td>28</td>\n",
       "      <td>Friday</td>\n",
       "      <td>19</td>\n",
       "      <td>False</td>\n",
       "    </tr>\n",
       "    <tr>\n",
       "      <th>3</th>\n",
       "      <td>1538352416000</td>\n",
       "      <td>9</td>\n",
       "      <td>8</td>\n",
       "      <td>NextSong</td>\n",
       "      <td>Logged In</td>\n",
       "      <td>PUT</td>\n",
       "      <td>200</td>\n",
       "      <td>free</td>\n",
       "      <td>80</td>\n",
       "      <td>Boston-Cambridge-Newton, MA-NH</td>\n",
       "      <td>...</td>\n",
       "      <td>262.71302</td>\n",
       "      <td>2018-09-30 21:06:56</td>\n",
       "      <td>Boston-Cambridge-Newton</td>\n",
       "      <td>MA-NH</td>\n",
       "      <td>2018</td>\n",
       "      <td>9</td>\n",
       "      <td>30</td>\n",
       "      <td>Sunday</td>\n",
       "      <td>15</td>\n",
       "      <td>False</td>\n",
       "    </tr>\n",
       "    <tr>\n",
       "      <th>4</th>\n",
       "      <td>1538352676000</td>\n",
       "      <td>30</td>\n",
       "      <td>29</td>\n",
       "      <td>NextSong</td>\n",
       "      <td>Logged In</td>\n",
       "      <td>PUT</td>\n",
       "      <td>200</td>\n",
       "      <td>paid</td>\n",
       "      <td>52</td>\n",
       "      <td>Bakersfield, CA</td>\n",
       "      <td>...</td>\n",
       "      <td>223.60771</td>\n",
       "      <td>2018-09-30 21:11:16</td>\n",
       "      <td>Bakersfield</td>\n",
       "      <td>CA</td>\n",
       "      <td>2018</td>\n",
       "      <td>9</td>\n",
       "      <td>28</td>\n",
       "      <td>Friday</td>\n",
       "      <td>19</td>\n",
       "      <td>False</td>\n",
       "    </tr>\n",
       "  </tbody>\n",
       "</table>\n",
       "<p>5 rows × 27 columns</p>\n",
       "</div>"
      ],
      "text/plain": [
       "              ts userId  sessionId      page       auth method  status level  \\\n",
       "0  1538352117000     30         29  NextSong  Logged In    PUT     200  paid   \n",
       "1  1538352180000      9          8  NextSong  Logged In    PUT     200  free   \n",
       "2  1538352394000     30         29  NextSong  Logged In    PUT     200  paid   \n",
       "3  1538352416000      9          8  NextSong  Logged In    PUT     200  free   \n",
       "4  1538352676000     30         29  NextSong  Logged In    PUT     200  paid   \n",
       "\n",
       "   itemInSession                        location  ...     length  \\\n",
       "0             50                 Bakersfield, CA  ...  277.89016   \n",
       "1             79  Boston-Cambridge-Newton, MA-NH  ...  236.09424   \n",
       "2             51                 Bakersfield, CA  ...  282.82730   \n",
       "3             80  Boston-Cambridge-Newton, MA-NH  ...  262.71302   \n",
       "4             52                 Bakersfield, CA  ...  223.60771   \n",
       "\n",
       "                ts_dt                     city   state registration_year  \\\n",
       "0 2018-09-30 21:01:57              Bakersfield      CA              2018   \n",
       "1 2018-09-30 21:03:00  Boston-Cambridge-Newton   MA-NH              2018   \n",
       "2 2018-09-30 21:06:34              Bakersfield      CA              2018   \n",
       "3 2018-09-30 21:06:56  Boston-Cambridge-Newton   MA-NH              2018   \n",
       "4 2018-09-30 21:11:16              Bakersfield      CA              2018   \n",
       "\n",
       "  registration_month registration_day  registration_weekday registration_hour  \\\n",
       "0                  9               28                Friday                19   \n",
       "1                  9               30                Sunday                15   \n",
       "2                  9               28                Friday                19   \n",
       "3                  9               30                Sunday                15   \n",
       "4                  9               28                Friday                19   \n",
       "\n",
       "   churn  \n",
       "0  False  \n",
       "1  False  \n",
       "2  False  \n",
       "3  False  \n",
       "4  False  \n",
       "\n",
       "[5 rows x 27 columns]"
      ]
     },
     "execution_count": 55,
     "metadata": {},
     "output_type": "execute_result"
    }
   ],
   "source": [
    "# Identifying the churned users rows\n",
    "churn_users = df_churn[df_churn['page']==\"Cancellation Confirmation\"][\"userId\"].drop_duplicates()\n",
    "df_churn['churn'] = df_churn['userId'].isin(churn_users.values)\n",
    "df_churn.head()"
   ]
  },
  {
   "cell_type": "markdown",
   "metadata": {},
   "source": [
    "- How many churned users by gender?"
   ]
  },
  {
   "cell_type": "code",
   "execution_count": 56,
   "metadata": {
    "scrolled": true
   },
   "outputs": [
    {
     "data": {
      "text/plain": [
       "<matplotlib.axes._subplots.AxesSubplot at 0x1b13d63fa90>"
      ]
     },
     "execution_count": 56,
     "metadata": {},
     "output_type": "execute_result"
    },
    {
     "data": {
      "image/png": "[encoded data removed]",
      "text/plain": [
       "<Figure size 432x288 with 1 Axes>"
      ]
     },
     "metadata": {
      "needs_background": "light"
     },
     "output_type": "display_data"
    }
   ],
   "source": [
    "tdf = df_churn.groupby(['userId','churn', 'gender']).size().reset_index()\n",
    "tdf = tdf.groupby(['churn','gender']).size().reset_index()\n",
    "sns.barplot(x='churn', y=0, hue='gender', data=tdf)"
   ]
  },
  {
   "cell_type": "markdown",
   "metadata": {},
   "source": [
    "- How many users by page?"
   ]
  },
  {
   "cell_type": "code",
   "execution_count": 57,
   "metadata": {},
   "outputs": [],
   "source": [
    "churn_count = sum(df_churn['churn'])\n",
    "no_churn_count = sum(~df_churn['churn'])"
   ]
  },
  {
   "cell_type": "code",
   "execution_count": 58,
   "metadata": {},
   "outputs": [
    {
     "data": {
      "text/html": [
       "<div>\n",
       "<style scoped>\n",
       "    .dataframe tbody tr th:only-of-type {\n",
       "        vertical-align: middle;\n",
       "    }\n",
       "\n",
       "    .dataframe tbody tr th {\n",
       "        vertical-align: top;\n",
       "    }\n",
       "\n",
       "    .dataframe thead th {\n",
       "        text-align: right;\n",
       "    }\n",
       "</style>\n",
       "<table border=\"1\" class=\"dataframe\">\n",
       "  <thead>\n",
       "    <tr style=\"text-align: right;\">\n",
       "      <th></th>\n",
       "      <th>page</th>\n",
       "      <th>count</th>\n",
       "      <th>cFreq</th>\n",
       "    </tr>\n",
       "  </thead>\n",
       "  <tbody>\n",
       "    <tr>\n",
       "      <th>0</th>\n",
       "      <td>About</td>\n",
       "      <td>56</td>\n",
       "      <td>0.124822</td>\n",
       "    </tr>\n",
       "    <tr>\n",
       "      <th>1</th>\n",
       "      <td>Add Friend</td>\n",
       "      <td>636</td>\n",
       "      <td>1.417618</td>\n",
       "    </tr>\n",
       "    <tr>\n",
       "      <th>2</th>\n",
       "      <td>Add to Playlist</td>\n",
       "      <td>1038</td>\n",
       "      <td>2.313659</td>\n",
       "    </tr>\n",
       "    <tr>\n",
       "      <th>3</th>\n",
       "      <td>Cancel</td>\n",
       "      <td>52</td>\n",
       "      <td>0.115906</td>\n",
       "    </tr>\n",
       "    <tr>\n",
       "      <th>4</th>\n",
       "      <td>Cancellation Confirmation</td>\n",
       "      <td>52</td>\n",
       "      <td>0.115906</td>\n",
       "    </tr>\n",
       "  </tbody>\n",
       "</table>\n",
       "</div>"
      ],
      "text/plain": [
       "                        page  count     cFreq\n",
       "0                      About     56  0.124822\n",
       "1                 Add Friend    636  1.417618\n",
       "2            Add to Playlist   1038  2.313659\n",
       "3                     Cancel     52  0.115906\n",
       "4  Cancellation Confirmation     52  0.115906"
      ]
     },
     "execution_count": 58,
     "metadata": {},
     "output_type": "execute_result"
    }
   ],
   "source": [
    "df_temp1 = df_churn[(df_churn['churn']==True) & (df_churn['page']!='NextSong')].groupby('page').size()\n",
    "df_temp1 = df_temp1.reset_index()\n",
    "df_temp1.rename({0:'count'},axis=1,inplace=True)\n",
    "df_temp1['cFreq'] = df_temp1[\"count\"]/(churn_count/100)\n",
    "df_temp1.head()"
   ]
  },
  {
   "cell_type": "code",
   "execution_count": 59,
   "metadata": {},
   "outputs": [
    {
     "data": {
      "text/html": [
       "<div>\n",
       "<style scoped>\n",
       "    .dataframe tbody tr th:only-of-type {\n",
       "        vertical-align: middle;\n",
       "    }\n",
       "\n",
       "    .dataframe tbody tr th {\n",
       "        vertical-align: top;\n",
       "    }\n",
       "\n",
       "    .dataframe thead th {\n",
       "        text-align: right;\n",
       "    }\n",
       "</style>\n",
       "<table border=\"1\" class=\"dataframe\">\n",
       "  <thead>\n",
       "    <tr style=\"text-align: right;\">\n",
       "      <th></th>\n",
       "      <th>page</th>\n",
       "      <th>count</th>\n",
       "      <th>ncFreq</th>\n",
       "    </tr>\n",
       "  </thead>\n",
       "  <tbody>\n",
       "    <tr>\n",
       "      <th>0</th>\n",
       "      <td>About</td>\n",
       "      <td>868</td>\n",
       "      <td>1.934736</td>\n",
       "    </tr>\n",
       "    <tr>\n",
       "      <th>1</th>\n",
       "      <td>Add Friend</td>\n",
       "      <td>3641</td>\n",
       "      <td>8.115638</td>\n",
       "    </tr>\n",
       "    <tr>\n",
       "      <th>2</th>\n",
       "      <td>Add to Playlist</td>\n",
       "      <td>5488</td>\n",
       "      <td>12.232525</td>\n",
       "    </tr>\n",
       "    <tr>\n",
       "      <th>3</th>\n",
       "      <td>Downgrade</td>\n",
       "      <td>1718</td>\n",
       "      <td>3.829351</td>\n",
       "    </tr>\n",
       "    <tr>\n",
       "      <th>4</th>\n",
       "      <td>Error</td>\n",
       "      <td>226</td>\n",
       "      <td>0.503745</td>\n",
       "    </tr>\n",
       "  </tbody>\n",
       "</table>\n",
       "</div>"
      ],
      "text/plain": [
       "              page  count     ncFreq\n",
       "0            About    868   1.934736\n",
       "1       Add Friend   3641   8.115638\n",
       "2  Add to Playlist   5488  12.232525\n",
       "3        Downgrade   1718   3.829351\n",
       "4            Error    226   0.503745"
      ]
     },
     "execution_count": 59,
     "metadata": {},
     "output_type": "execute_result"
    }
   ],
   "source": [
    "df_temp2 = df_churn[(df_churn['churn']==False) & (df_churn['page']!='NextSong')].groupby('page').size()\n",
    "df_temp2 = df_temp2.reset_index()\n",
    "df_temp2.rename({0:'count'},axis=1,inplace=True)\n",
    "df_temp2['ncFreq'] = df_temp2[\"count\"]/(churn_count/100)\n",
    "df_temp2.head()"
   ]
  },
  {
   "cell_type": "code",
   "execution_count": 60,
   "metadata": {},
   "outputs": [
    {
     "data": {
      "text/html": [
       "<div>\n",
       "<style scoped>\n",
       "    .dataframe tbody tr th:only-of-type {\n",
       "        vertical-align: middle;\n",
       "    }\n",
       "\n",
       "    .dataframe tbody tr th {\n",
       "        vertical-align: top;\n",
       "    }\n",
       "\n",
       "    .dataframe thead th {\n",
       "        text-align: right;\n",
       "    }\n",
       "</style>\n",
       "<table border=\"1\" class=\"dataframe\">\n",
       "  <thead>\n",
       "    <tr style=\"text-align: right;\">\n",
       "      <th></th>\n",
       "      <th>cFreq</th>\n",
       "      <th>ncFreq</th>\n",
       "    </tr>\n",
       "    <tr>\n",
       "      <th>page</th>\n",
       "      <th></th>\n",
       "      <th></th>\n",
       "    </tr>\n",
       "  </thead>\n",
       "  <tbody>\n",
       "    <tr>\n",
       "      <th>About</th>\n",
       "      <td>0.124822</td>\n",
       "      <td>1.934736</td>\n",
       "    </tr>\n",
       "    <tr>\n",
       "      <th>Add Friend</th>\n",
       "      <td>1.417618</td>\n",
       "      <td>8.115638</td>\n",
       "    </tr>\n",
       "    <tr>\n",
       "      <th>Add to Playlist</th>\n",
       "      <td>2.313659</td>\n",
       "      <td>12.232525</td>\n",
       "    </tr>\n",
       "    <tr>\n",
       "      <th>Cancel</th>\n",
       "      <td>0.115906</td>\n",
       "      <td>0.000000</td>\n",
       "    </tr>\n",
       "    <tr>\n",
       "      <th>Cancellation Confirmation</th>\n",
       "      <td>0.115906</td>\n",
       "      <td>0.000000</td>\n",
       "    </tr>\n",
       "  </tbody>\n",
       "</table>\n",
       "</div>"
      ],
      "text/plain": [
       "                              cFreq     ncFreq\n",
       "page                                          \n",
       "About                      0.124822   1.934736\n",
       "Add Friend                 1.417618   8.115638\n",
       "Add to Playlist            2.313659  12.232525\n",
       "Cancel                     0.115906   0.000000\n",
       "Cancellation Confirmation  0.115906   0.000000"
      ]
     },
     "execution_count": 60,
     "metadata": {},
     "output_type": "execute_result"
    }
   ],
   "source": [
    "tdf = df_temp1.set_index('page').drop('count',axis=1).join(df_temp2.set_index('page')).fillna(0)\n",
    "tdf = tdf.drop('count',axis=1)\n",
    "tdf.head()"
   ]
  },
  {
   "cell_type": "code",
   "execution_count": 61,
   "metadata": {},
   "outputs": [
    {
     "data": {
      "text/plain": [
       "<matplotlib.axes._subplots.AxesSubplot at 0x1b17cb78790>"
      ]
     },
     "execution_count": 61,
     "metadata": {},
     "output_type": "execute_result"
    },
    {
     "data": {
      "image/png": "[encoded data removed]",
      "text/plain": [
       "<Figure size 432x288 with 1 Axes>"
      ]
     },
     "metadata": {
      "needs_background": "light"
     },
     "output_type": "display_data"
    }
   ],
   "source": [
    "tdf = tdf.reset_index()\n",
    "tdf.plot.bar('page')"
   ]
  },
  {
   "cell_type": "markdown",
   "metadata": {},
   "source": [
    "- How many Cancellation Confirmation page by level?"
   ]
  },
  {
   "cell_type": "code",
   "execution_count": 62,
   "metadata": {
    "scrolled": true
   },
   "outputs": [
    {
     "data": {
      "text/plain": [
       "<matplotlib.axes._subplots.AxesSubplot at 0x1b13daed460>"
      ]
     },
     "execution_count": 62,
     "metadata": {},
     "output_type": "execute_result"
    },
    {
     "data": {
      "image/png": "[encoded data removed]",
      "text/plain": [
       "<Figure size 432x288 with 1 Axes>"
      ]
     },
     "metadata": {
      "needs_background": "light"
     },
     "output_type": "display_data"
    }
   ],
   "source": [
    "tdf = df_churn[df_churn['page']=='Cancellation Confirmation'].groupby('level').size()\n",
    "tdf = tdf.reset_index()\n",
    "tdf.rename({0:'count'},axis=1,inplace=True)\n",
    "sns.barplot(x=\"level\", y=\"count\", data=tdf)"
   ]
  },
  {
   "cell_type": "markdown",
   "metadata": {},
   "source": [
    "- How many churned users by ts time?"
   ]
  },
  {
   "cell_type": "code",
   "execution_count": 63,
   "metadata": {},
   "outputs": [],
   "source": [
    "df_churn['ts_hour'] = df_churn['ts_dt'].apply(lambda x : x.hour)"
   ]
  },
  {
   "cell_type": "code",
   "execution_count": 64,
   "metadata": {},
   "outputs": [],
   "source": [
    "df_churn['ts_weekday'] = df_churn['ts_dt'].apply(lambda x : x.strftime(\"%w\"))"
   ]
  },
  {
   "cell_type": "code",
   "execution_count": 65,
   "metadata": {},
   "outputs": [],
   "source": [
    "df_churn['ts_day'] = df_churn['ts_dt'].apply(lambda x : x.day)"
   ]
  },
  {
   "cell_type": "code",
   "execution_count": 66,
   "metadata": {},
   "outputs": [
    {
     "data": {
      "text/plain": [
       "Index(['ts', 'userId', 'sessionId', 'page', 'auth', 'method', 'status',\n",
       "       'level', 'itemInSession', 'location', 'userAgent', 'lastName',\n",
       "       'firstName', 'registration', 'gender', 'artist', 'song', 'length',\n",
       "       'ts_dt', 'city', 'state', 'registration_year', 'registration_month',\n",
       "       'registration_day', 'registration_weekday', 'registration_hour',\n",
       "       'churn', 'ts_hour', 'ts_weekday', 'ts_day'],\n",
       "      dtype='object')"
      ]
     },
     "execution_count": 66,
     "metadata": {},
     "output_type": "execute_result"
    }
   ],
   "source": [
    "df_churn.columns"
   ]
  },
  {
   "cell_type": "markdown",
   "metadata": {},
   "source": [
    "## Feature Engineering"
   ]
  },
  {
   "cell_type": "markdown",
   "metadata": {},
   "source": [
    "- Feature 1: number of days since registration"
   ]
  },
  {
   "cell_type": "code",
   "execution_count": 67,
   "metadata": {},
   "outputs": [
    {
     "data": {
      "text/html": [
       "<div>\n",
       "<style scoped>\n",
       "    .dataframe tbody tr th:only-of-type {\n",
       "        vertical-align: middle;\n",
       "    }\n",
       "\n",
       "    .dataframe tbody tr th {\n",
       "        vertical-align: top;\n",
       "    }\n",
       "\n",
       "    .dataframe thead th {\n",
       "        text-align: right;\n",
       "    }\n",
       "</style>\n",
       "<table border=\"1\" class=\"dataframe\">\n",
       "  <thead>\n",
       "    <tr style=\"text-align: right;\">\n",
       "      <th></th>\n",
       "      <th>ts</th>\n",
       "      <th>userId</th>\n",
       "      <th>sessionId</th>\n",
       "      <th>page</th>\n",
       "      <th>auth</th>\n",
       "      <th>method</th>\n",
       "      <th>status</th>\n",
       "      <th>level</th>\n",
       "      <th>itemInSession</th>\n",
       "      <th>location</th>\n",
       "      <th>...</th>\n",
       "      <th>state</th>\n",
       "      <th>registration_year</th>\n",
       "      <th>registration_month</th>\n",
       "      <th>registration_day</th>\n",
       "      <th>registration_weekday</th>\n",
       "      <th>registration_hour</th>\n",
       "      <th>churn</th>\n",
       "      <th>ts_hour</th>\n",
       "      <th>ts_weekday</th>\n",
       "      <th>ts_day</th>\n",
       "    </tr>\n",
       "  </thead>\n",
       "  <tbody>\n",
       "    <tr>\n",
       "      <th>0</th>\n",
       "      <td>1538352117000</td>\n",
       "      <td>30</td>\n",
       "      <td>29</td>\n",
       "      <td>NextSong</td>\n",
       "      <td>Logged In</td>\n",
       "      <td>PUT</td>\n",
       "      <td>200</td>\n",
       "      <td>paid</td>\n",
       "      <td>50</td>\n",
       "      <td>Bakersfield, CA</td>\n",
       "      <td>...</td>\n",
       "      <td>CA</td>\n",
       "      <td>2018</td>\n",
       "      <td>9</td>\n",
       "      <td>28</td>\n",
       "      <td>Friday</td>\n",
       "      <td>19</td>\n",
       "      <td>False</td>\n",
       "      <td>21</td>\n",
       "      <td>0</td>\n",
       "      <td>30</td>\n",
       "    </tr>\n",
       "    <tr>\n",
       "      <th>1</th>\n",
       "      <td>1538352180000</td>\n",
       "      <td>9</td>\n",
       "      <td>8</td>\n",
       "      <td>NextSong</td>\n",
       "      <td>Logged In</td>\n",
       "      <td>PUT</td>\n",
       "      <td>200</td>\n",
       "      <td>free</td>\n",
       "      <td>79</td>\n",
       "      <td>Boston-Cambridge-Newton, MA-NH</td>\n",
       "      <td>...</td>\n",
       "      <td>MA-NH</td>\n",
       "      <td>2018</td>\n",
       "      <td>9</td>\n",
       "      <td>30</td>\n",
       "      <td>Sunday</td>\n",
       "      <td>15</td>\n",
       "      <td>False</td>\n",
       "      <td>21</td>\n",
       "      <td>0</td>\n",
       "      <td>30</td>\n",
       "    </tr>\n",
       "    <tr>\n",
       "      <th>2</th>\n",
       "      <td>1538352394000</td>\n",
       "      <td>30</td>\n",
       "      <td>29</td>\n",
       "      <td>NextSong</td>\n",
       "      <td>Logged In</td>\n",
       "      <td>PUT</td>\n",
       "      <td>200</td>\n",
       "      <td>paid</td>\n",
       "      <td>51</td>\n",
       "      <td>Bakersfield, CA</td>\n",
       "      <td>...</td>\n",
       "      <td>CA</td>\n",
       "      <td>2018</td>\n",
       "      <td>9</td>\n",
       "      <td>28</td>\n",
       "      <td>Friday</td>\n",
       "      <td>19</td>\n",
       "      <td>False</td>\n",
       "      <td>21</td>\n",
       "      <td>0</td>\n",
       "      <td>30</td>\n",
       "    </tr>\n",
       "    <tr>\n",
       "      <th>3</th>\n",
       "      <td>1538352416000</td>\n",
       "      <td>9</td>\n",
       "      <td>8</td>\n",
       "      <td>NextSong</td>\n",
       "      <td>Logged In</td>\n",
       "      <td>PUT</td>\n",
       "      <td>200</td>\n",
       "      <td>free</td>\n",
       "      <td>80</td>\n",
       "      <td>Boston-Cambridge-Newton, MA-NH</td>\n",
       "      <td>...</td>\n",
       "      <td>MA-NH</td>\n",
       "      <td>2018</td>\n",
       "      <td>9</td>\n",
       "      <td>30</td>\n",
       "      <td>Sunday</td>\n",
       "      <td>15</td>\n",
       "      <td>False</td>\n",
       "      <td>21</td>\n",
       "      <td>0</td>\n",
       "      <td>30</td>\n",
       "    </tr>\n",
       "    <tr>\n",
       "      <th>4</th>\n",
       "      <td>1538352676000</td>\n",
       "      <td>30</td>\n",
       "      <td>29</td>\n",
       "      <td>NextSong</td>\n",
       "      <td>Logged In</td>\n",
       "      <td>PUT</td>\n",
       "      <td>200</td>\n",
       "      <td>paid</td>\n",
       "      <td>52</td>\n",
       "      <td>Bakersfield, CA</td>\n",
       "      <td>...</td>\n",
       "      <td>CA</td>\n",
       "      <td>2018</td>\n",
       "      <td>9</td>\n",
       "      <td>28</td>\n",
       "      <td>Friday</td>\n",
       "      <td>19</td>\n",
       "      <td>False</td>\n",
       "      <td>21</td>\n",
       "      <td>0</td>\n",
       "      <td>30</td>\n",
       "    </tr>\n",
       "  </tbody>\n",
       "</table>\n",
       "<p>5 rows × 30 columns</p>\n",
       "</div>"
      ],
      "text/plain": [
       "              ts userId  sessionId      page       auth method  status level  \\\n",
       "0  1538352117000     30         29  NextSong  Logged In    PUT     200  paid   \n",
       "1  1538352180000      9          8  NextSong  Logged In    PUT     200  free   \n",
       "2  1538352394000     30         29  NextSong  Logged In    PUT     200  paid   \n",
       "3  1538352416000      9          8  NextSong  Logged In    PUT     200  free   \n",
       "4  1538352676000     30         29  NextSong  Logged In    PUT     200  paid   \n",
       "\n",
       "   itemInSession                        location  ...   state  \\\n",
       "0             50                 Bakersfield, CA  ...      CA   \n",
       "1             79  Boston-Cambridge-Newton, MA-NH  ...   MA-NH   \n",
       "2             51                 Bakersfield, CA  ...      CA   \n",
       "3             80  Boston-Cambridge-Newton, MA-NH  ...   MA-NH   \n",
       "4             52                 Bakersfield, CA  ...      CA   \n",
       "\n",
       "  registration_year registration_month registration_day registration_weekday  \\\n",
       "0              2018                  9               28               Friday   \n",
       "1              2018                  9               30               Sunday   \n",
       "2              2018                  9               28               Friday   \n",
       "3              2018                  9               30               Sunday   \n",
       "4              2018                  9               28               Friday   \n",
       "\n",
       "  registration_hour  churn  ts_hour ts_weekday ts_day  \n",
       "0                19  False       21          0     30  \n",
       "1                15  False       21          0     30  \n",
       "2                19  False       21          0     30  \n",
       "3                15  False       21          0     30  \n",
       "4                19  False       21          0     30  \n",
       "\n",
       "[5 rows x 30 columns]"
      ]
     },
     "execution_count": 67,
     "metadata": {},
     "output_type": "execute_result"
    }
   ],
   "source": [
    "df_churn.head()"
   ]
  },
  {
   "cell_type": "code",
   "execution_count": 68,
   "metadata": {},
   "outputs": [],
   "source": [
    "df_churn = df_churn[df_churn['userId'].apply(lambda x: True if len(str(x)) > 0 else False)]"
   ]
  },
  {
   "cell_type": "code",
   "execution_count": 69,
   "metadata": {},
   "outputs": [
    {
     "data": {
      "text/html": [
       "<div>\n",
       "<style scoped>\n",
       "    .dataframe tbody tr th:only-of-type {\n",
       "        vertical-align: middle;\n",
       "    }\n",
       "\n",
       "    .dataframe tbody tr th {\n",
       "        vertical-align: top;\n",
       "    }\n",
       "\n",
       "    .dataframe thead th {\n",
       "        text-align: right;\n",
       "    }\n",
       "</style>\n",
       "<table border=\"1\" class=\"dataframe\">\n",
       "  <thead>\n",
       "    <tr style=\"text-align: right;\">\n",
       "      <th></th>\n",
       "      <th>userId</th>\n",
       "      <th>ts_dt</th>\n",
       "    </tr>\n",
       "  </thead>\n",
       "  <tbody>\n",
       "    <tr>\n",
       "      <th>0</th>\n",
       "      <td>10</td>\n",
       "      <td>2018-11-19 09:49:48</td>\n",
       "    </tr>\n",
       "    <tr>\n",
       "      <th>1</th>\n",
       "      <td>100</td>\n",
       "      <td>2018-11-30 11:15:49</td>\n",
       "    </tr>\n",
       "    <tr>\n",
       "      <th>2</th>\n",
       "      <td>100001</td>\n",
       "      <td>2018-10-02 13:36:45</td>\n",
       "    </tr>\n",
       "    <tr>\n",
       "      <th>3</th>\n",
       "      <td>100002</td>\n",
       "      <td>2018-12-02 22:11:16</td>\n",
       "    </tr>\n",
       "    <tr>\n",
       "      <th>4</th>\n",
       "      <td>100003</td>\n",
       "      <td>2018-10-11 13:19:41</td>\n",
       "    </tr>\n",
       "  </tbody>\n",
       "</table>\n",
       "</div>"
      ],
      "text/plain": [
       "   userId               ts_dt\n",
       "0      10 2018-11-19 09:49:48\n",
       "1     100 2018-11-30 11:15:49\n",
       "2  100001 2018-10-02 13:36:45\n",
       "3  100002 2018-12-02 22:11:16\n",
       "4  100003 2018-10-11 13:19:41"
      ]
     },
     "execution_count": 69,
     "metadata": {},
     "output_type": "execute_result"
    }
   ],
   "source": [
    "user_max_ts = df_churn.groupby('userId')['ts_dt'].max().reset_index().sort_values('userId')\n",
    "user_max_ts.head()"
   ]
  },
  {
   "cell_type": "code",
   "execution_count": 70,
   "metadata": {},
   "outputs": [
    {
     "data": {
      "text/html": [
       "<div>\n",
       "<style scoped>\n",
       "    .dataframe tbody tr th:only-of-type {\n",
       "        vertical-align: middle;\n",
       "    }\n",
       "\n",
       "    .dataframe tbody tr th {\n",
       "        vertical-align: top;\n",
       "    }\n",
       "\n",
       "    .dataframe thead th {\n",
       "        text-align: right;\n",
       "    }\n",
       "</style>\n",
       "<table border=\"1\" class=\"dataframe\">\n",
       "  <thead>\n",
       "    <tr style=\"text-align: right;\">\n",
       "      <th></th>\n",
       "      <th>userId</th>\n",
       "      <th>registration</th>\n",
       "    </tr>\n",
       "  </thead>\n",
       "  <tbody>\n",
       "    <tr>\n",
       "      <th>20920</th>\n",
       "      <td>10</td>\n",
       "      <td>2018-09-28 15:31:35</td>\n",
       "    </tr>\n",
       "    <tr>\n",
       "      <th>4582</th>\n",
       "      <td>100</td>\n",
       "      <td>2018-09-26 14:17:35</td>\n",
       "    </tr>\n",
       "    <tr>\n",
       "      <th>213708</th>\n",
       "      <td>100001</td>\n",
       "      <td>2018-08-18 18:24:26</td>\n",
       "    </tr>\n",
       "    <tr>\n",
       "      <th>216243</th>\n",
       "      <td>100002</td>\n",
       "      <td>2018-06-25 10:51:29</td>\n",
       "    </tr>\n",
       "    <tr>\n",
       "      <th>216619</th>\n",
       "      <td>100003</td>\n",
       "      <td>2018-09-18 19:22:24</td>\n",
       "    </tr>\n",
       "  </tbody>\n",
       "</table>\n",
       "</div>"
      ],
      "text/plain": [
       "        userId         registration\n",
       "20920       10  2018-09-28 15:31:35\n",
       "4582       100  2018-09-26 14:17:35\n",
       "213708  100001  2018-08-18 18:24:26\n",
       "216243  100002  2018-06-25 10:51:29\n",
       "216619  100003  2018-09-18 19:22:24"
      ]
     },
     "execution_count": 70,
     "metadata": {},
     "output_type": "execute_result"
    }
   ],
   "source": [
    "user_reg_ts = df_churn[[\"userId\", \"registration\"]].drop_duplicates().sort_values(\"userId\")\n",
    "user_reg_ts.head()"
   ]
  },
  {
   "cell_type": "code",
   "execution_count": 71,
   "metadata": {},
   "outputs": [],
   "source": [
    "user_max_ts = user_max_ts.set_index('userId')\n",
    "user_reg_ts = user_reg_ts.set_index('userId')"
   ]
  },
  {
   "cell_type": "code",
   "execution_count": 72,
   "metadata": {},
   "outputs": [
    {
     "data": {
      "text/html": [
       "<div>\n",
       "<style scoped>\n",
       "    .dataframe tbody tr th:only-of-type {\n",
       "        vertical-align: middle;\n",
       "    }\n",
       "\n",
       "    .dataframe tbody tr th {\n",
       "        vertical-align: top;\n",
       "    }\n",
       "\n",
       "    .dataframe thead th {\n",
       "        text-align: right;\n",
       "    }\n",
       "</style>\n",
       "<table border=\"1\" class=\"dataframe\">\n",
       "  <thead>\n",
       "    <tr style=\"text-align: right;\">\n",
       "      <th></th>\n",
       "      <th>registration</th>\n",
       "      <th>ts_dt</th>\n",
       "    </tr>\n",
       "    <tr>\n",
       "      <th>userId</th>\n",
       "      <th></th>\n",
       "      <th></th>\n",
       "    </tr>\n",
       "  </thead>\n",
       "  <tbody>\n",
       "    <tr>\n",
       "      <th>10</th>\n",
       "      <td>2018-09-28 15:31:35</td>\n",
       "      <td>2018-11-19 09:49:48</td>\n",
       "    </tr>\n",
       "    <tr>\n",
       "      <th>100</th>\n",
       "      <td>2018-09-26 14:17:35</td>\n",
       "      <td>2018-11-30 11:15:49</td>\n",
       "    </tr>\n",
       "    <tr>\n",
       "      <th>100001</th>\n",
       "      <td>2018-08-18 18:24:26</td>\n",
       "      <td>2018-10-02 13:36:45</td>\n",
       "    </tr>\n",
       "    <tr>\n",
       "      <th>100002</th>\n",
       "      <td>2018-06-25 10:51:29</td>\n",
       "      <td>2018-12-02 22:11:16</td>\n",
       "    </tr>\n",
       "    <tr>\n",
       "      <th>100003</th>\n",
       "      <td>2018-09-18 19:22:24</td>\n",
       "      <td>2018-10-11 13:19:41</td>\n",
       "    </tr>\n",
       "  </tbody>\n",
       "</table>\n",
       "</div>"
      ],
      "text/plain": [
       "               registration               ts_dt\n",
       "userId                                         \n",
       "10      2018-09-28 15:31:35 2018-11-19 09:49:48\n",
       "100     2018-09-26 14:17:35 2018-11-30 11:15:49\n",
       "100001  2018-08-18 18:24:26 2018-10-02 13:36:45\n",
       "100002  2018-06-25 10:51:29 2018-12-02 22:11:16\n",
       "100003  2018-09-18 19:22:24 2018-10-11 13:19:41"
      ]
     },
     "execution_count": 72,
     "metadata": {},
     "output_type": "execute_result"
    }
   ],
   "source": [
    "user_reg_days = user_reg_ts.join(user_max_ts)\n",
    "user_reg_days.head()"
   ]
  },
  {
   "cell_type": "code",
   "execution_count": 73,
   "metadata": {},
   "outputs": [],
   "source": [
    "user_reg_days['registration'] = pd.to_datetime(user_reg_days['registration'])\n",
    "#user_reg_days['ts_dt'] = pd.to_datetime(user_reg_days['ts_dt'])"
   ]
  },
  {
   "cell_type": "code",
   "execution_count": 74,
   "metadata": {},
   "outputs": [
    {
     "data": {
      "text/html": [
       "<div>\n",
       "<style scoped>\n",
       "    .dataframe tbody tr th:only-of-type {\n",
       "        vertical-align: middle;\n",
       "    }\n",
       "\n",
       "    .dataframe tbody tr th {\n",
       "        vertical-align: top;\n",
       "    }\n",
       "\n",
       "    .dataframe thead th {\n",
       "        text-align: right;\n",
       "    }\n",
       "</style>\n",
       "<table border=\"1\" class=\"dataframe\">\n",
       "  <thead>\n",
       "    <tr style=\"text-align: right;\">\n",
       "      <th></th>\n",
       "      <th>registration</th>\n",
       "      <th>ts_dt</th>\n",
       "      <th>regDay</th>\n",
       "    </tr>\n",
       "    <tr>\n",
       "      <th>userId</th>\n",
       "      <th></th>\n",
       "      <th></th>\n",
       "      <th></th>\n",
       "    </tr>\n",
       "  </thead>\n",
       "  <tbody>\n",
       "    <tr>\n",
       "      <th>10</th>\n",
       "      <td>2018-09-28 15:31:35</td>\n",
       "      <td>2018-11-19 09:49:48</td>\n",
       "      <td>51 days 18:18:13</td>\n",
       "    </tr>\n",
       "    <tr>\n",
       "      <th>100</th>\n",
       "      <td>2018-09-26 14:17:35</td>\n",
       "      <td>2018-11-30 11:15:49</td>\n",
       "      <td>64 days 20:58:14</td>\n",
       "    </tr>\n",
       "    <tr>\n",
       "      <th>100001</th>\n",
       "      <td>2018-08-18 18:24:26</td>\n",
       "      <td>2018-10-02 13:36:45</td>\n",
       "      <td>44 days 19:12:19</td>\n",
       "    </tr>\n",
       "    <tr>\n",
       "      <th>100002</th>\n",
       "      <td>2018-06-25 10:51:29</td>\n",
       "      <td>2018-12-02 22:11:16</td>\n",
       "      <td>160 days 11:19:47</td>\n",
       "    </tr>\n",
       "    <tr>\n",
       "      <th>100003</th>\n",
       "      <td>2018-09-18 19:22:24</td>\n",
       "      <td>2018-10-11 13:19:41</td>\n",
       "      <td>22 days 17:57:17</td>\n",
       "    </tr>\n",
       "  </tbody>\n",
       "</table>\n",
       "</div>"
      ],
      "text/plain": [
       "              registration               ts_dt            regDay\n",
       "userId                                                          \n",
       "10     2018-09-28 15:31:35 2018-11-19 09:49:48  51 days 18:18:13\n",
       "100    2018-09-26 14:17:35 2018-11-30 11:15:49  64 days 20:58:14\n",
       "100001 2018-08-18 18:24:26 2018-10-02 13:36:45  44 days 19:12:19\n",
       "100002 2018-06-25 10:51:29 2018-12-02 22:11:16 160 days 11:19:47\n",
       "100003 2018-09-18 19:22:24 2018-10-11 13:19:41  22 days 17:57:17"
      ]
     },
     "execution_count": 74,
     "metadata": {},
     "output_type": "execute_result"
    }
   ],
   "source": [
    "user_reg_days['regDay']  =  user_reg_days['ts_dt']-user_reg_days['registration']\n",
    "user_reg_days.head()"
   ]
  },
  {
   "cell_type": "markdown",
   "metadata": {},
   "source": [
    "- Feature 2: avg & min & max time per session"
   ]
  },
  {
   "cell_type": "code",
   "execution_count": 75,
   "metadata": {},
   "outputs": [],
   "source": [
    "def max_min(x):\n",
    "    return x.max() - x.min()"
   ]
  },
  {
   "cell_type": "code",
   "execution_count": 119,
   "metadata": {},
   "outputs": [],
   "source": [
    "user_session_time = df_churn.copy()\n",
    "user_session_time = user_session_time.groupby(['userId', 'sessionId']).\\\n",
    "    agg({'ts':[min,max,max_min]})"
   ]
  },
  {
   "cell_type": "code",
   "execution_count": 120,
   "metadata": {},
   "outputs": [
    {
     "data": {
      "text/html": [
       "<div>\n",
       "<style scoped>\n",
       "    .dataframe tbody tr th:only-of-type {\n",
       "        vertical-align: middle;\n",
       "    }\n",
       "\n",
       "    .dataframe tbody tr th {\n",
       "        vertical-align: top;\n",
       "    }\n",
       "\n",
       "    .dataframe thead th {\n",
       "        text-align: right;\n",
       "    }\n",
       "</style>\n",
       "<table border=\"1\" class=\"dataframe\">\n",
       "  <thead>\n",
       "    <tr style=\"text-align: right;\">\n",
       "      <th></th>\n",
       "      <th>index</th>\n",
       "      <th>userId</th>\n",
       "      <th>sessionId</th>\n",
       "      <th>min</th>\n",
       "      <th>max</th>\n",
       "      <th>max_min</th>\n",
       "    </tr>\n",
       "  </thead>\n",
       "  <tbody>\n",
       "    <tr>\n",
       "      <th>0</th>\n",
       "      <td>0</td>\n",
       "      <td>10</td>\n",
       "      <td>9</td>\n",
       "      <td>1538965220000</td>\n",
       "      <td>1538979372000</td>\n",
       "      <td>14152000</td>\n",
       "    </tr>\n",
       "    <tr>\n",
       "      <th>1</th>\n",
       "      <td>1</td>\n",
       "      <td>10</td>\n",
       "      <td>595</td>\n",
       "      <td>1539833923000</td>\n",
       "      <td>1539926798000</td>\n",
       "      <td>92875000</td>\n",
       "    </tr>\n",
       "    <tr>\n",
       "      <th>2</th>\n",
       "      <td>2</td>\n",
       "      <td>10</td>\n",
       "      <td>1047</td>\n",
       "      <td>1540850546000</td>\n",
       "      <td>1540856031000</td>\n",
       "      <td>5485000</td>\n",
       "    </tr>\n",
       "    <tr>\n",
       "      <th>3</th>\n",
       "      <td>3</td>\n",
       "      <td>10</td>\n",
       "      <td>1414</td>\n",
       "      <td>1541255262000</td>\n",
       "      <td>1541270598000</td>\n",
       "      <td>15336000</td>\n",
       "    </tr>\n",
       "    <tr>\n",
       "      <th>4</th>\n",
       "      <td>4</td>\n",
       "      <td>10</td>\n",
       "      <td>1592</td>\n",
       "      <td>1542310466000</td>\n",
       "      <td>1542327989000</td>\n",
       "      <td>17523000</td>\n",
       "    </tr>\n",
       "  </tbody>\n",
       "</table>\n",
       "</div>"
      ],
      "text/plain": [
       "   index userId  sessionId            min            max   max_min\n",
       "0      0     10          9  1538965220000  1538979372000  14152000\n",
       "1      1     10        595  1539833923000  1539926798000  92875000\n",
       "2      2     10       1047  1540850546000  1540856031000   5485000\n",
       "3      3     10       1414  1541255262000  1541270598000  15336000\n",
       "4      4     10       1592  1542310466000  1542327989000  17523000"
      ]
     },
     "execution_count": 120,
     "metadata": {},
     "output_type": "execute_result"
    }
   ],
   "source": [
    "user_session_time = user_session_time.reset_index()\n",
    "tdf = pd.DataFrame(user_session_time.to_records())\n",
    "tdf.columns = ['index','userId','sessionId','min','max','max_min']\n",
    "tdf.head()"
   ]
  },
  {
   "cell_type": "code",
   "execution_count": 121,
   "metadata": {},
   "outputs": [
    {
     "data": {
      "text/html": [
       "<div>\n",
       "<style scoped>\n",
       "    .dataframe tbody tr th:only-of-type {\n",
       "        vertical-align: middle;\n",
       "    }\n",
       "\n",
       "    .dataframe tbody tr th {\n",
       "        vertical-align: top;\n",
       "    }\n",
       "\n",
       "    .dataframe thead tr th {\n",
       "        text-align: left;\n",
       "    }\n",
       "</style>\n",
       "<table border=\"1\" class=\"dataframe\">\n",
       "  <thead>\n",
       "    <tr>\n",
       "      <th></th>\n",
       "      <th>userId</th>\n",
       "      <th colspan=\"3\" halign=\"left\">max_min</th>\n",
       "    </tr>\n",
       "    <tr>\n",
       "      <th></th>\n",
       "      <th></th>\n",
       "      <th>mean</th>\n",
       "      <th>min</th>\n",
       "      <th>max</th>\n",
       "    </tr>\n",
       "  </thead>\n",
       "  <tbody>\n",
       "    <tr>\n",
       "      <th>0</th>\n",
       "      <td>10</td>\n",
       "      <td>2.758483e+07</td>\n",
       "      <td>5485000</td>\n",
       "      <td>92875000</td>\n",
       "    </tr>\n",
       "    <tr>\n",
       "      <th>1</th>\n",
       "      <td>100</td>\n",
       "      <td>1.899114e+07</td>\n",
       "      <td>0</td>\n",
       "      <td>61175000</td>\n",
       "    </tr>\n",
       "    <tr>\n",
       "      <th>2</th>\n",
       "      <td>100001</td>\n",
       "      <td>8.889500e+06</td>\n",
       "      <td>3780000</td>\n",
       "      <td>12917000</td>\n",
       "    </tr>\n",
       "    <tr>\n",
       "      <th>3</th>\n",
       "      <td>100002</td>\n",
       "      <td>1.207100e+07</td>\n",
       "      <td>0</td>\n",
       "      <td>43828000</td>\n",
       "    </tr>\n",
       "    <tr>\n",
       "      <th>4</th>\n",
       "      <td>100003</td>\n",
       "      <td>5.947000e+06</td>\n",
       "      <td>193000</td>\n",
       "      <td>11701000</td>\n",
       "    </tr>\n",
       "  </tbody>\n",
       "</table>\n",
       "</div>"
      ],
      "text/plain": [
       "   userId       max_min                   \n",
       "                   mean      min       max\n",
       "0      10  2.758483e+07  5485000  92875000\n",
       "1     100  1.899114e+07        0  61175000\n",
       "2  100001  8.889500e+06  3780000  12917000\n",
       "3  100002  1.207100e+07        0  43828000\n",
       "4  100003  5.947000e+06   193000  11701000"
      ]
     },
     "execution_count": 121,
     "metadata": {},
     "output_type": "execute_result"
    }
   ],
   "source": [
    "user_session_time_stat = tdf.groupby('userId').agg({'max_min':[np.mean,min,max]}).reset_index()\n",
    "user_session_time_stat.head()"
   ]
  },
  {
   "cell_type": "markdown",
   "metadata": {},
   "source": [
    "- Feature 3: number of songs per session"
   ]
  },
  {
   "cell_type": "code",
   "execution_count": 86,
   "metadata": {},
   "outputs": [
    {
     "data": {
      "text/html": [
       "<div>\n",
       "<style scoped>\n",
       "    .dataframe tbody tr th:only-of-type {\n",
       "        vertical-align: middle;\n",
       "    }\n",
       "\n",
       "    .dataframe tbody tr th {\n",
       "        vertical-align: top;\n",
       "    }\n",
       "\n",
       "    .dataframe thead th {\n",
       "        text-align: right;\n",
       "    }\n",
       "</style>\n",
       "<table border=\"1\" class=\"dataframe\">\n",
       "  <thead>\n",
       "    <tr style=\"text-align: right;\">\n",
       "      <th></th>\n",
       "      <th>userId</th>\n",
       "      <th>sessionId</th>\n",
       "      <th>count</th>\n",
       "    </tr>\n",
       "  </thead>\n",
       "  <tbody>\n",
       "    <tr>\n",
       "      <th>0</th>\n",
       "      <td>10</td>\n",
       "      <td>9</td>\n",
       "      <td>57</td>\n",
       "    </tr>\n",
       "    <tr>\n",
       "      <th>1</th>\n",
       "      <td>10</td>\n",
       "      <td>595</td>\n",
       "      <td>381</td>\n",
       "    </tr>\n",
       "    <tr>\n",
       "      <th>2</th>\n",
       "      <td>10</td>\n",
       "      <td>1047</td>\n",
       "      <td>21</td>\n",
       "    </tr>\n",
       "    <tr>\n",
       "      <th>3</th>\n",
       "      <td>10</td>\n",
       "      <td>1414</td>\n",
       "      <td>63</td>\n",
       "    </tr>\n",
       "    <tr>\n",
       "      <th>4</th>\n",
       "      <td>10</td>\n",
       "      <td>1592</td>\n",
       "      <td>67</td>\n",
       "    </tr>\n",
       "  </tbody>\n",
       "</table>\n",
       "</div>"
      ],
      "text/plain": [
       "  userId  sessionId  count\n",
       "0     10          9     57\n",
       "1     10        595    381\n",
       "2     10       1047     21\n",
       "3     10       1414     63\n",
       "4     10       1592     67"
      ]
     },
     "execution_count": 86,
     "metadata": {},
     "output_type": "execute_result"
    }
   ],
   "source": [
    "user_session_songs = df_churn[df_churn['page']=='NextSong'].groupby(['userId', 'sessionId']).size().reset_index()\n",
    "user_session_songs.rename({0:'count'},axis=1,inplace=True)\n",
    "user_session_songs.head()"
   ]
  },
  {
   "cell_type": "code",
   "execution_count": 87,
   "metadata": {
    "scrolled": true
   },
   "outputs": [
    {
     "data": {
      "text/html": [
       "<div>\n",
       "<style scoped>\n",
       "    .dataframe tbody tr th:only-of-type {\n",
       "        vertical-align: middle;\n",
       "    }\n",
       "\n",
       "    .dataframe tbody tr th {\n",
       "        vertical-align: top;\n",
       "    }\n",
       "\n",
       "    .dataframe thead tr th {\n",
       "        text-align: left;\n",
       "    }\n",
       "\n",
       "    .dataframe thead tr:last-of-type th {\n",
       "        text-align: right;\n",
       "    }\n",
       "</style>\n",
       "<table border=\"1\" class=\"dataframe\">\n",
       "  <thead>\n",
       "    <tr>\n",
       "      <th></th>\n",
       "      <th>count</th>\n",
       "    </tr>\n",
       "    <tr>\n",
       "      <th></th>\n",
       "      <th>mean</th>\n",
       "    </tr>\n",
       "    <tr>\n",
       "      <th>userId</th>\n",
       "      <th></th>\n",
       "    </tr>\n",
       "  </thead>\n",
       "  <tbody>\n",
       "    <tr>\n",
       "      <th>10</th>\n",
       "      <td>112.166667</td>\n",
       "    </tr>\n",
       "    <tr>\n",
       "      <th>100</th>\n",
       "      <td>78.882353</td>\n",
       "    </tr>\n",
       "    <tr>\n",
       "      <th>100001</th>\n",
       "      <td>33.250000</td>\n",
       "    </tr>\n",
       "    <tr>\n",
       "      <th>100002</th>\n",
       "      <td>48.750000</td>\n",
       "    </tr>\n",
       "    <tr>\n",
       "      <th>100003</th>\n",
       "      <td>25.500000</td>\n",
       "    </tr>\n",
       "  </tbody>\n",
       "</table>\n",
       "</div>"
      ],
      "text/plain": [
       "             count\n",
       "              mean\n",
       "userId            \n",
       "10      112.166667\n",
       "100      78.882353\n",
       "100001   33.250000\n",
       "100002   48.750000\n",
       "100003   25.500000"
      ]
     },
     "execution_count": 87,
     "metadata": {},
     "output_type": "execute_result"
    }
   ],
   "source": [
    "user_session_songs_avg = user_session_songs.groupby(\"userId\").agg({'count':[np.mean]})\n",
    "user_session_songs_avg.head()"
   ]
  },
  {
   "cell_type": "code",
   "execution_count": 88,
   "metadata": {},
   "outputs": [
    {
     "data": {
      "text/html": [
       "<div>\n",
       "<style scoped>\n",
       "    .dataframe tbody tr th:only-of-type {\n",
       "        vertical-align: middle;\n",
       "    }\n",
       "\n",
       "    .dataframe tbody tr th {\n",
       "        vertical-align: top;\n",
       "    }\n",
       "\n",
       "    .dataframe thead th {\n",
       "        text-align: right;\n",
       "    }\n",
       "</style>\n",
       "<table border=\"1\" class=\"dataframe\">\n",
       "  <thead>\n",
       "    <tr style=\"text-align: right;\">\n",
       "      <th></th>\n",
       "      <th>userId</th>\n",
       "      <th>mean</th>\n",
       "    </tr>\n",
       "  </thead>\n",
       "  <tbody>\n",
       "    <tr>\n",
       "      <th>0</th>\n",
       "      <td>10</td>\n",
       "      <td>112.166667</td>\n",
       "    </tr>\n",
       "    <tr>\n",
       "      <th>1</th>\n",
       "      <td>100</td>\n",
       "      <td>78.882353</td>\n",
       "    </tr>\n",
       "    <tr>\n",
       "      <th>2</th>\n",
       "      <td>100001</td>\n",
       "      <td>33.250000</td>\n",
       "    </tr>\n",
       "    <tr>\n",
       "      <th>3</th>\n",
       "      <td>100002</td>\n",
       "      <td>48.750000</td>\n",
       "    </tr>\n",
       "    <tr>\n",
       "      <th>4</th>\n",
       "      <td>100003</td>\n",
       "      <td>25.500000</td>\n",
       "    </tr>\n",
       "  </tbody>\n",
       "</table>\n",
       "</div>"
      ],
      "text/plain": [
       "   userId        mean\n",
       "0      10  112.166667\n",
       "1     100   78.882353\n",
       "2  100001   33.250000\n",
       "3  100002   48.750000\n",
       "4  100003   25.500000"
      ]
     },
     "execution_count": 88,
     "metadata": {},
     "output_type": "execute_result"
    }
   ],
   "source": [
    "user_session_songs_avg = pd.DataFrame(user_session_songs_avg.to_records())\n",
    "user_session_songs_avg.columns = ['userId','mean']\n",
    "user_session_songs_avg.head()"
   ]
  },
  {
   "cell_type": "markdown",
   "metadata": {},
   "source": [
    "- Feature 4: gender"
   ]
  },
  {
   "cell_type": "code",
   "execution_count": 89,
   "metadata": {},
   "outputs": [
    {
     "data": {
      "text/html": [
       "<div>\n",
       "<style scoped>\n",
       "    .dataframe tbody tr th:only-of-type {\n",
       "        vertical-align: middle;\n",
       "    }\n",
       "\n",
       "    .dataframe tbody tr th {\n",
       "        vertical-align: top;\n",
       "    }\n",
       "\n",
       "    .dataframe thead th {\n",
       "        text-align: right;\n",
       "    }\n",
       "</style>\n",
       "<table border=\"1\" class=\"dataframe\">\n",
       "  <thead>\n",
       "    <tr style=\"text-align: right;\">\n",
       "      <th></th>\n",
       "      <th>userId</th>\n",
       "      <th>gender</th>\n",
       "    </tr>\n",
       "  </thead>\n",
       "  <tbody>\n",
       "    <tr>\n",
       "      <th>0</th>\n",
       "      <td>30</td>\n",
       "      <td>0</td>\n",
       "    </tr>\n",
       "    <tr>\n",
       "      <th>1</th>\n",
       "      <td>9</td>\n",
       "      <td>0</td>\n",
       "    </tr>\n",
       "    <tr>\n",
       "      <th>17</th>\n",
       "      <td>74</td>\n",
       "      <td>1</td>\n",
       "    </tr>\n",
       "    <tr>\n",
       "      <th>22</th>\n",
       "      <td>54</td>\n",
       "      <td>1</td>\n",
       "    </tr>\n",
       "    <tr>\n",
       "      <th>74</th>\n",
       "      <td>4</td>\n",
       "      <td>0</td>\n",
       "    </tr>\n",
       "  </tbody>\n",
       "</table>\n",
       "</div>"
      ],
      "text/plain": [
       "   userId gender\n",
       "0      30      0\n",
       "1       9      0\n",
       "17     74      1\n",
       "22     54      1\n",
       "74      4      0"
      ]
     },
     "execution_count": 89,
     "metadata": {},
     "output_type": "execute_result"
    }
   ],
   "source": [
    "user_gender = df_churn[['userId', 'gender']].drop_duplicates()\n",
    "user_gender['gender'] = user_gender['gender'].replace([\"M\", \"F\"], [\"0\", \"1\"])\n",
    "user_gender.head()"
   ]
  },
  {
   "cell_type": "markdown",
   "metadata": {},
   "source": [
    "- Feature 5: number of sessions"
   ]
  },
  {
   "cell_type": "code",
   "execution_count": 90,
   "metadata": {},
   "outputs": [
    {
     "data": {
      "text/plain": [
       "userId\n",
       "10         6\n",
       "100       35\n",
       "100001     4\n",
       "100002     4\n",
       "100003     2\n",
       "dtype: int64"
      ]
     },
     "execution_count": 90,
     "metadata": {},
     "output_type": "execute_result"
    }
   ],
   "source": [
    "user_session_count = df_churn[['userId', 'sessionId']].drop_duplicates().groupby(\"userId\").size()\n",
    "user_session_count.head()"
   ]
  },
  {
   "cell_type": "markdown",
   "metadata": {},
   "source": [
    "- Feature 6: how many singers have the user heard"
   ]
  },
  {
   "cell_type": "code",
   "execution_count": 105,
   "metadata": {},
   "outputs": [
    {
     "data": {
      "text/html": [
       "<div>\n",
       "<style scoped>\n",
       "    .dataframe tbody tr th:only-of-type {\n",
       "        vertical-align: middle;\n",
       "    }\n",
       "\n",
       "    .dataframe tbody tr th {\n",
       "        vertical-align: top;\n",
       "    }\n",
       "\n",
       "    .dataframe thead th {\n",
       "        text-align: right;\n",
       "    }\n",
       "</style>\n",
       "<table border=\"1\" class=\"dataframe\">\n",
       "  <thead>\n",
       "    <tr style=\"text-align: right;\">\n",
       "      <th></th>\n",
       "      <th>userId</th>\n",
       "      <th>aritstCount</th>\n",
       "    </tr>\n",
       "  </thead>\n",
       "  <tbody>\n",
       "    <tr>\n",
       "      <th>0</th>\n",
       "      <td>10</td>\n",
       "      <td>565</td>\n",
       "    </tr>\n",
       "    <tr>\n",
       "      <th>1</th>\n",
       "      <td>100</td>\n",
       "      <td>1705</td>\n",
       "    </tr>\n",
       "    <tr>\n",
       "      <th>2</th>\n",
       "      <td>100001</td>\n",
       "      <td>125</td>\n",
       "    </tr>\n",
       "    <tr>\n",
       "      <th>3</th>\n",
       "      <td>100002</td>\n",
       "      <td>184</td>\n",
       "    </tr>\n",
       "    <tr>\n",
       "      <th>4</th>\n",
       "      <td>100003</td>\n",
       "      <td>50</td>\n",
       "    </tr>\n",
       "  </tbody>\n",
       "</table>\n",
       "</div>"
      ],
      "text/plain": [
       "   userId  aritstCount\n",
       "0      10          565\n",
       "1     100         1705\n",
       "2  100001          125\n",
       "3  100002          184\n",
       "4  100003           50"
      ]
     },
     "execution_count": 105,
     "metadata": {},
     "output_type": "execute_result"
    }
   ],
   "source": [
    "user_artist_count = df_churn[df_churn['page']=='NextSong'][['userId','artist']].drop_duplicates().groupby('userId').size()\n",
    "user_artist_count = user_artist_count.reset_index()\n",
    "user_artist_count.rename({0:'aritstCount'},axis=1,inplace=True)\n",
    "user_artist_count.head()"
   ]
  },
  {
   "cell_type": "markdown",
   "metadata": {},
   "source": [
    "### Put all features together"
   ]
  },
  {
   "cell_type": "markdown",
   "metadata": {},
   "source": [
    "- Dataframes\n",
    "<ul>\n",
    "<li>user_reg_days</li>\n",
    "<li>user_session_time_stat</li>\n",
    "<li>user_session_songs_avg</li>\n",
    "<li>user_gender</li>\n",
    "<li>user_session_count</li>\n",
    "    <li>user_artist_count</li>\n",
    "</ul>"
   ]
  },
  {
   "cell_type": "code",
   "execution_count": 122,
   "metadata": {},
   "outputs": [
    {
     "data": {
      "text/html": [
       "<div>\n",
       "<style scoped>\n",
       "    .dataframe tbody tr th:only-of-type {\n",
       "        vertical-align: middle;\n",
       "    }\n",
       "\n",
       "    .dataframe tbody tr th {\n",
       "        vertical-align: top;\n",
       "    }\n",
       "\n",
       "    .dataframe thead th {\n",
       "        text-align: right;\n",
       "    }\n",
       "</style>\n",
       "<table border=\"1\" class=\"dataframe\">\n",
       "  <thead>\n",
       "    <tr style=\"text-align: right;\">\n",
       "      <th></th>\n",
       "      <th>userId</th>\n",
       "      <th>ts_mean</th>\n",
       "      <th>ts_min</th>\n",
       "      <th>ts_max</th>\n",
       "    </tr>\n",
       "  </thead>\n",
       "  <tbody>\n",
       "    <tr>\n",
       "      <th>0</th>\n",
       "      <td>10</td>\n",
       "      <td>2.758483e+07</td>\n",
       "      <td>5485000</td>\n",
       "      <td>92875000</td>\n",
       "    </tr>\n",
       "    <tr>\n",
       "      <th>1</th>\n",
       "      <td>100</td>\n",
       "      <td>1.899114e+07</td>\n",
       "      <td>0</td>\n",
       "      <td>61175000</td>\n",
       "    </tr>\n",
       "    <tr>\n",
       "      <th>2</th>\n",
       "      <td>100001</td>\n",
       "      <td>8.889500e+06</td>\n",
       "      <td>3780000</td>\n",
       "      <td>12917000</td>\n",
       "    </tr>\n",
       "    <tr>\n",
       "      <th>3</th>\n",
       "      <td>100002</td>\n",
       "      <td>1.207100e+07</td>\n",
       "      <td>0</td>\n",
       "      <td>43828000</td>\n",
       "    </tr>\n",
       "    <tr>\n",
       "      <th>4</th>\n",
       "      <td>100003</td>\n",
       "      <td>5.947000e+06</td>\n",
       "      <td>193000</td>\n",
       "      <td>11701000</td>\n",
       "    </tr>\n",
       "  </tbody>\n",
       "</table>\n",
       "</div>"
      ],
      "text/plain": [
       "   userId       ts_mean   ts_min    ts_max\n",
       "0      10  2.758483e+07  5485000  92875000\n",
       "1     100  1.899114e+07        0  61175000\n",
       "2  100001  8.889500e+06  3780000  12917000\n",
       "3  100002  1.207100e+07        0  43828000\n",
       "4  100003  5.947000e+06   193000  11701000"
      ]
     },
     "execution_count": 122,
     "metadata": {},
     "output_type": "execute_result"
    }
   ],
   "source": [
    "usts = user_session_time_stat.droplevel(0, axis=1)\n",
    "usts.rename({'':'userId','mean':'ts_mean','min':'ts_min','max':'ts_max'},axis=1,inplace=True)\n",
    "usts.head()"
   ]
  },
  {
   "cell_type": "code",
   "execution_count": 124,
   "metadata": {},
   "outputs": [
    {
     "data": {
      "text/html": [
       "<div>\n",
       "<style scoped>\n",
       "    .dataframe tbody tr th:only-of-type {\n",
       "        vertical-align: middle;\n",
       "    }\n",
       "\n",
       "    .dataframe tbody tr th {\n",
       "        vertical-align: top;\n",
       "    }\n",
       "\n",
       "    .dataframe thead th {\n",
       "        text-align: right;\n",
       "    }\n",
       "</style>\n",
       "<table border=\"1\" class=\"dataframe\">\n",
       "  <thead>\n",
       "    <tr style=\"text-align: right;\">\n",
       "      <th></th>\n",
       "      <th>registration</th>\n",
       "      <th>ts_dt</th>\n",
       "      <th>regDay</th>\n",
       "      <th>ts_mean</th>\n",
       "      <th>ts_min</th>\n",
       "      <th>ts_max</th>\n",
       "    </tr>\n",
       "    <tr>\n",
       "      <th>userId</th>\n",
       "      <th></th>\n",
       "      <th></th>\n",
       "      <th></th>\n",
       "      <th></th>\n",
       "      <th></th>\n",
       "      <th></th>\n",
       "    </tr>\n",
       "  </thead>\n",
       "  <tbody>\n",
       "    <tr>\n",
       "      <th>10</th>\n",
       "      <td>2018-09-28 15:31:35</td>\n",
       "      <td>2018-11-19 09:49:48</td>\n",
       "      <td>51 days 18:18:13</td>\n",
       "      <td>2.758483e+07</td>\n",
       "      <td>5485000</td>\n",
       "      <td>92875000</td>\n",
       "    </tr>\n",
       "    <tr>\n",
       "      <th>100</th>\n",
       "      <td>2018-09-26 14:17:35</td>\n",
       "      <td>2018-11-30 11:15:49</td>\n",
       "      <td>64 days 20:58:14</td>\n",
       "      <td>1.899114e+07</td>\n",
       "      <td>0</td>\n",
       "      <td>61175000</td>\n",
       "    </tr>\n",
       "    <tr>\n",
       "      <th>100001</th>\n",
       "      <td>2018-08-18 18:24:26</td>\n",
       "      <td>2018-10-02 13:36:45</td>\n",
       "      <td>44 days 19:12:19</td>\n",
       "      <td>8.889500e+06</td>\n",
       "      <td>3780000</td>\n",
       "      <td>12917000</td>\n",
       "    </tr>\n",
       "    <tr>\n",
       "      <th>100002</th>\n",
       "      <td>2018-06-25 10:51:29</td>\n",
       "      <td>2018-12-02 22:11:16</td>\n",
       "      <td>160 days 11:19:47</td>\n",
       "      <td>1.207100e+07</td>\n",
       "      <td>0</td>\n",
       "      <td>43828000</td>\n",
       "    </tr>\n",
       "    <tr>\n",
       "      <th>100003</th>\n",
       "      <td>2018-09-18 19:22:24</td>\n",
       "      <td>2018-10-11 13:19:41</td>\n",
       "      <td>22 days 17:57:17</td>\n",
       "      <td>5.947000e+06</td>\n",
       "      <td>193000</td>\n",
       "      <td>11701000</td>\n",
       "    </tr>\n",
       "  </tbody>\n",
       "</table>\n",
       "</div>"
      ],
      "text/plain": [
       "              registration               ts_dt            regDay  \\\n",
       "userId                                                             \n",
       "10     2018-09-28 15:31:35 2018-11-19 09:49:48  51 days 18:18:13   \n",
       "100    2018-09-26 14:17:35 2018-11-30 11:15:49  64 days 20:58:14   \n",
       "100001 2018-08-18 18:24:26 2018-10-02 13:36:45  44 days 19:12:19   \n",
       "100002 2018-06-25 10:51:29 2018-12-02 22:11:16 160 days 11:19:47   \n",
       "100003 2018-09-18 19:22:24 2018-10-11 13:19:41  22 days 17:57:17   \n",
       "\n",
       "             ts_mean   ts_min    ts_max  \n",
       "userId                                   \n",
       "10      2.758483e+07  5485000  92875000  \n",
       "100     1.899114e+07        0  61175000  \n",
       "100001  8.889500e+06  3780000  12917000  \n",
       "100002  1.207100e+07        0  43828000  \n",
       "100003  5.947000e+06   193000  11701000  "
      ]
     },
     "execution_count": 124,
     "metadata": {},
     "output_type": "execute_result"
    }
   ],
   "source": [
    "tdf = user_reg_days.join(usts.set_index('userId'))\n",
    "tdf.head()"
   ]
  },
  {
   "cell_type": "code",
   "execution_count": 127,
   "metadata": {},
   "outputs": [
    {
     "data": {
      "text/html": [
       "<div>\n",
       "<style scoped>\n",
       "    .dataframe tbody tr th:only-of-type {\n",
       "        vertical-align: middle;\n",
       "    }\n",
       "\n",
       "    .dataframe tbody tr th {\n",
       "        vertical-align: top;\n",
       "    }\n",
       "\n",
       "    .dataframe thead th {\n",
       "        text-align: right;\n",
       "    }\n",
       "</style>\n",
       "<table border=\"1\" class=\"dataframe\">\n",
       "  <thead>\n",
       "    <tr style=\"text-align: right;\">\n",
       "      <th></th>\n",
       "      <th>userId</th>\n",
       "      <th>song_mean</th>\n",
       "    </tr>\n",
       "  </thead>\n",
       "  <tbody>\n",
       "    <tr>\n",
       "      <th>0</th>\n",
       "      <td>10</td>\n",
       "      <td>112.166667</td>\n",
       "    </tr>\n",
       "    <tr>\n",
       "      <th>1</th>\n",
       "      <td>100</td>\n",
       "      <td>78.882353</td>\n",
       "    </tr>\n",
       "    <tr>\n",
       "      <th>2</th>\n",
       "      <td>100001</td>\n",
       "      <td>33.250000</td>\n",
       "    </tr>\n",
       "    <tr>\n",
       "      <th>3</th>\n",
       "      <td>100002</td>\n",
       "      <td>48.750000</td>\n",
       "    </tr>\n",
       "    <tr>\n",
       "      <th>4</th>\n",
       "      <td>100003</td>\n",
       "      <td>25.500000</td>\n",
       "    </tr>\n",
       "  </tbody>\n",
       "</table>\n",
       "</div>"
      ],
      "text/plain": [
       "   userId   song_mean\n",
       "0      10  112.166667\n",
       "1     100   78.882353\n",
       "2  100001   33.250000\n",
       "3  100002   48.750000\n",
       "4  100003   25.500000"
      ]
     },
     "execution_count": 127,
     "metadata": {},
     "output_type": "execute_result"
    }
   ],
   "source": [
    "user_session_songs_avg.rename({'mean':'song_mean'},axis=1,inplace=True)\n",
    "user_session_songs_avg.head()"
   ]
  },
  {
   "cell_type": "markdown",
   "metadata": {},
   "source": [
    "- Join with user_session_songs_avg dataframe"
   ]
  },
  {
   "cell_type": "code",
   "execution_count": 128,
   "metadata": {},
   "outputs": [],
   "source": [
    "tdf = tdf.join(user_session_songs_avg.set_index('userId'))\n",
    "tdf.head()"
   ]
  },
  {
   "cell_type": "markdown",
   "metadata": {},
   "source": [
    "- Join with user_gender dataframe"
   ]
  },
  {
   "cell_type": "code",
   "execution_count": 131,
   "metadata": {},
   "outputs": [
    {
     "data": {
      "text/html": [
       "<div>\n",
       "<style scoped>\n",
       "    .dataframe tbody tr th:only-of-type {\n",
       "        vertical-align: middle;\n",
       "    }\n",
       "\n",
       "    .dataframe tbody tr th {\n",
       "        vertical-align: top;\n",
       "    }\n",
       "\n",
       "    .dataframe thead th {\n",
       "        text-align: right;\n",
       "    }\n",
       "</style>\n",
       "<table border=\"1\" class=\"dataframe\">\n",
       "  <thead>\n",
       "    <tr style=\"text-align: right;\">\n",
       "      <th></th>\n",
       "      <th>registration</th>\n",
       "      <th>ts_dt</th>\n",
       "      <th>regDay</th>\n",
       "      <th>ts_mean</th>\n",
       "      <th>ts_min</th>\n",
       "      <th>ts_max</th>\n",
       "      <th>song_mean</th>\n",
       "      <th>gender</th>\n",
       "    </tr>\n",
       "    <tr>\n",
       "      <th>userId</th>\n",
       "      <th></th>\n",
       "      <th></th>\n",
       "      <th></th>\n",
       "      <th></th>\n",
       "      <th></th>\n",
       "      <th></th>\n",
       "      <th></th>\n",
       "      <th></th>\n",
       "    </tr>\n",
       "  </thead>\n",
       "  <tbody>\n",
       "    <tr>\n",
       "      <th>10</th>\n",
       "      <td>2018-09-28 15:31:35</td>\n",
       "      <td>2018-11-19 09:49:48</td>\n",
       "      <td>51 days 18:18:13</td>\n",
       "      <td>2.758483e+07</td>\n",
       "      <td>5485000</td>\n",
       "      <td>92875000</td>\n",
       "      <td>112.166667</td>\n",
       "      <td>0</td>\n",
       "    </tr>\n",
       "    <tr>\n",
       "      <th>100</th>\n",
       "      <td>2018-09-26 14:17:35</td>\n",
       "      <td>2018-11-30 11:15:49</td>\n",
       "      <td>64 days 20:58:14</td>\n",
       "      <td>1.899114e+07</td>\n",
       "      <td>0</td>\n",
       "      <td>61175000</td>\n",
       "      <td>78.882353</td>\n",
       "      <td>0</td>\n",
       "    </tr>\n",
       "    <tr>\n",
       "      <th>100001</th>\n",
       "      <td>2018-08-18 18:24:26</td>\n",
       "      <td>2018-10-02 13:36:45</td>\n",
       "      <td>44 days 19:12:19</td>\n",
       "      <td>8.889500e+06</td>\n",
       "      <td>3780000</td>\n",
       "      <td>12917000</td>\n",
       "      <td>33.250000</td>\n",
       "      <td>1</td>\n",
       "    </tr>\n",
       "    <tr>\n",
       "      <th>100002</th>\n",
       "      <td>2018-06-25 10:51:29</td>\n",
       "      <td>2018-12-02 22:11:16</td>\n",
       "      <td>160 days 11:19:47</td>\n",
       "      <td>1.207100e+07</td>\n",
       "      <td>0</td>\n",
       "      <td>43828000</td>\n",
       "      <td>48.750000</td>\n",
       "      <td>1</td>\n",
       "    </tr>\n",
       "    <tr>\n",
       "      <th>100003</th>\n",
       "      <td>2018-09-18 19:22:24</td>\n",
       "      <td>2018-10-11 13:19:41</td>\n",
       "      <td>22 days 17:57:17</td>\n",
       "      <td>5.947000e+06</td>\n",
       "      <td>193000</td>\n",
       "      <td>11701000</td>\n",
       "      <td>25.500000</td>\n",
       "      <td>1</td>\n",
       "    </tr>\n",
       "  </tbody>\n",
       "</table>\n",
       "</div>"
      ],
      "text/plain": [
       "              registration               ts_dt            regDay  \\\n",
       "userId                                                             \n",
       "10     2018-09-28 15:31:35 2018-11-19 09:49:48  51 days 18:18:13   \n",
       "100    2018-09-26 14:17:35 2018-11-30 11:15:49  64 days 20:58:14   \n",
       "100001 2018-08-18 18:24:26 2018-10-02 13:36:45  44 days 19:12:19   \n",
       "100002 2018-06-25 10:51:29 2018-12-02 22:11:16 160 days 11:19:47   \n",
       "100003 2018-09-18 19:22:24 2018-10-11 13:19:41  22 days 17:57:17   \n",
       "\n",
       "             ts_mean   ts_min    ts_max   song_mean gender  \n",
       "userId                                                      \n",
       "10      2.758483e+07  5485000  92875000  112.166667      0  \n",
       "100     1.899114e+07        0  61175000   78.882353      0  \n",
       "100001  8.889500e+06  3780000  12917000   33.250000      1  \n",
       "100002  1.207100e+07        0  43828000   48.750000      1  \n",
       "100003  5.947000e+06   193000  11701000   25.500000      1  "
      ]
     },
     "execution_count": 131,
     "metadata": {},
     "output_type": "execute_result"
    }
   ],
   "source": [
    "tdf = tdf.join(user_gender.set_index('userId'))\n",
    "tdf.head()"
   ]
  },
  {
   "cell_type": "markdown",
   "metadata": {},
   "source": [
    "- Join with user_session_count dataframe"
   ]
  },
  {
   "cell_type": "code",
   "execution_count": 135,
   "metadata": {},
   "outputs": [
    {
     "data": {
      "text/html": [
       "<div>\n",
       "<style scoped>\n",
       "    .dataframe tbody tr th:only-of-type {\n",
       "        vertical-align: middle;\n",
       "    }\n",
       "\n",
       "    .dataframe tbody tr th {\n",
       "        vertical-align: top;\n",
       "    }\n",
       "\n",
       "    .dataframe thead th {\n",
       "        text-align: right;\n",
       "    }\n",
       "</style>\n",
       "<table border=\"1\" class=\"dataframe\">\n",
       "  <thead>\n",
       "    <tr style=\"text-align: right;\">\n",
       "      <th></th>\n",
       "      <th>userId</th>\n",
       "      <th>count_session</th>\n",
       "    </tr>\n",
       "  </thead>\n",
       "  <tbody>\n",
       "    <tr>\n",
       "      <th>0</th>\n",
       "      <td>10</td>\n",
       "      <td>6</td>\n",
       "    </tr>\n",
       "    <tr>\n",
       "      <th>1</th>\n",
       "      <td>100</td>\n",
       "      <td>35</td>\n",
       "    </tr>\n",
       "    <tr>\n",
       "      <th>2</th>\n",
       "      <td>100001</td>\n",
       "      <td>4</td>\n",
       "    </tr>\n",
       "    <tr>\n",
       "      <th>3</th>\n",
       "      <td>100002</td>\n",
       "      <td>4</td>\n",
       "    </tr>\n",
       "    <tr>\n",
       "      <th>4</th>\n",
       "      <td>100003</td>\n",
       "      <td>2</td>\n",
       "    </tr>\n",
       "  </tbody>\n",
       "</table>\n",
       "</div>"
      ],
      "text/plain": [
       "   userId  count_session\n",
       "0      10              6\n",
       "1     100             35\n",
       "2  100001              4\n",
       "3  100002              4\n",
       "4  100003              2"
      ]
     },
     "execution_count": 135,
     "metadata": {},
     "output_type": "execute_result"
    }
   ],
   "source": [
    "usc = user_session_count.reset_index()\n",
    "usc.rename({0:'count_session'},axis=1,inplace=True)\n",
    "usc.head()"
   ]
  },
  {
   "cell_type": "code",
   "execution_count": 136,
   "metadata": {},
   "outputs": [
    {
     "data": {
      "text/html": [
       "<div>\n",
       "<style scoped>\n",
       "    .dataframe tbody tr th:only-of-type {\n",
       "        vertical-align: middle;\n",
       "    }\n",
       "\n",
       "    .dataframe tbody tr th {\n",
       "        vertical-align: top;\n",
       "    }\n",
       "\n",
       "    .dataframe thead th {\n",
       "        text-align: right;\n",
       "    }\n",
       "</style>\n",
       "<table border=\"1\" class=\"dataframe\">\n",
       "  <thead>\n",
       "    <tr style=\"text-align: right;\">\n",
       "      <th></th>\n",
       "      <th>registration</th>\n",
       "      <th>ts_dt</th>\n",
       "      <th>regDay</th>\n",
       "      <th>ts_mean</th>\n",
       "      <th>ts_min</th>\n",
       "      <th>ts_max</th>\n",
       "      <th>song_mean</th>\n",
       "      <th>gender</th>\n",
       "      <th>count_session</th>\n",
       "    </tr>\n",
       "    <tr>\n",
       "      <th>userId</th>\n",
       "      <th></th>\n",
       "      <th></th>\n",
       "      <th></th>\n",
       "      <th></th>\n",
       "      <th></th>\n",
       "      <th></th>\n",
       "      <th></th>\n",
       "      <th></th>\n",
       "      <th></th>\n",
       "    </tr>\n",
       "  </thead>\n",
       "  <tbody>\n",
       "    <tr>\n",
       "      <th>10</th>\n",
       "      <td>2018-09-28 15:31:35</td>\n",
       "      <td>2018-11-19 09:49:48</td>\n",
       "      <td>51 days 18:18:13</td>\n",
       "      <td>2.758483e+07</td>\n",
       "      <td>5485000</td>\n",
       "      <td>92875000</td>\n",
       "      <td>112.166667</td>\n",
       "      <td>0</td>\n",
       "      <td>6</td>\n",
       "    </tr>\n",
       "    <tr>\n",
       "      <th>100</th>\n",
       "      <td>2018-09-26 14:17:35</td>\n",
       "      <td>2018-11-30 11:15:49</td>\n",
       "      <td>64 days 20:58:14</td>\n",
       "      <td>1.899114e+07</td>\n",
       "      <td>0</td>\n",
       "      <td>61175000</td>\n",
       "      <td>78.882353</td>\n",
       "      <td>0</td>\n",
       "      <td>35</td>\n",
       "    </tr>\n",
       "    <tr>\n",
       "      <th>100001</th>\n",
       "      <td>2018-08-18 18:24:26</td>\n",
       "      <td>2018-10-02 13:36:45</td>\n",
       "      <td>44 days 19:12:19</td>\n",
       "      <td>8.889500e+06</td>\n",
       "      <td>3780000</td>\n",
       "      <td>12917000</td>\n",
       "      <td>33.250000</td>\n",
       "      <td>1</td>\n",
       "      <td>4</td>\n",
       "    </tr>\n",
       "    <tr>\n",
       "      <th>100002</th>\n",
       "      <td>2018-06-25 10:51:29</td>\n",
       "      <td>2018-12-02 22:11:16</td>\n",
       "      <td>160 days 11:19:47</td>\n",
       "      <td>1.207100e+07</td>\n",
       "      <td>0</td>\n",
       "      <td>43828000</td>\n",
       "      <td>48.750000</td>\n",
       "      <td>1</td>\n",
       "      <td>4</td>\n",
       "    </tr>\n",
       "    <tr>\n",
       "      <th>100003</th>\n",
       "      <td>2018-09-18 19:22:24</td>\n",
       "      <td>2018-10-11 13:19:41</td>\n",
       "      <td>22 days 17:57:17</td>\n",
       "      <td>5.947000e+06</td>\n",
       "      <td>193000</td>\n",
       "      <td>11701000</td>\n",
       "      <td>25.500000</td>\n",
       "      <td>1</td>\n",
       "      <td>2</td>\n",
       "    </tr>\n",
       "  </tbody>\n",
       "</table>\n",
       "</div>"
      ],
      "text/plain": [
       "              registration               ts_dt            regDay  \\\n",
       "userId                                                             \n",
       "10     2018-09-28 15:31:35 2018-11-19 09:49:48  51 days 18:18:13   \n",
       "100    2018-09-26 14:17:35 2018-11-30 11:15:49  64 days 20:58:14   \n",
       "100001 2018-08-18 18:24:26 2018-10-02 13:36:45  44 days 19:12:19   \n",
       "100002 2018-06-25 10:51:29 2018-12-02 22:11:16 160 days 11:19:47   \n",
       "100003 2018-09-18 19:22:24 2018-10-11 13:19:41  22 days 17:57:17   \n",
       "\n",
       "             ts_mean   ts_min    ts_max   song_mean gender  count_session  \n",
       "userId                                                                     \n",
       "10      2.758483e+07  5485000  92875000  112.166667      0              6  \n",
       "100     1.899114e+07        0  61175000   78.882353      0             35  \n",
       "100001  8.889500e+06  3780000  12917000   33.250000      1              4  \n",
       "100002  1.207100e+07        0  43828000   48.750000      1              4  \n",
       "100003  5.947000e+06   193000  11701000   25.500000      1              2  "
      ]
     },
     "execution_count": 136,
     "metadata": {},
     "output_type": "execute_result"
    }
   ],
   "source": [
    "tdf = tdf.join(usc.set_index('userId'))\n",
    "tdf.head()"
   ]
  },
  {
   "cell_type": "markdown",
   "metadata": {},
   "source": [
    "- Join with user_artist_count dataframe"
   ]
  },
  {
   "cell_type": "code",
   "execution_count": 139,
   "metadata": {
    "scrolled": true
   },
   "outputs": [
    {
     "data": {
      "text/html": [
       "<div>\n",
       "<style scoped>\n",
       "    .dataframe tbody tr th:only-of-type {\n",
       "        vertical-align: middle;\n",
       "    }\n",
       "\n",
       "    .dataframe tbody tr th {\n",
       "        vertical-align: top;\n",
       "    }\n",
       "\n",
       "    .dataframe thead th {\n",
       "        text-align: right;\n",
       "    }\n",
       "</style>\n",
       "<table border=\"1\" class=\"dataframe\">\n",
       "  <thead>\n",
       "    <tr style=\"text-align: right;\">\n",
       "      <th></th>\n",
       "      <th>registration</th>\n",
       "      <th>ts_dt</th>\n",
       "      <th>regDay</th>\n",
       "      <th>ts_mean</th>\n",
       "      <th>ts_min</th>\n",
       "      <th>ts_max</th>\n",
       "      <th>song_mean</th>\n",
       "      <th>gender</th>\n",
       "      <th>count_session</th>\n",
       "      <th>aritstCount</th>\n",
       "    </tr>\n",
       "    <tr>\n",
       "      <th>userId</th>\n",
       "      <th></th>\n",
       "      <th></th>\n",
       "      <th></th>\n",
       "      <th></th>\n",
       "      <th></th>\n",
       "      <th></th>\n",
       "      <th></th>\n",
       "      <th></th>\n",
       "      <th></th>\n",
       "      <th></th>\n",
       "    </tr>\n",
       "  </thead>\n",
       "  <tbody>\n",
       "    <tr>\n",
       "      <th>10</th>\n",
       "      <td>2018-09-28 15:31:35</td>\n",
       "      <td>2018-11-19 09:49:48</td>\n",
       "      <td>51 days 18:18:13</td>\n",
       "      <td>2.758483e+07</td>\n",
       "      <td>5485000</td>\n",
       "      <td>92875000</td>\n",
       "      <td>112.166667</td>\n",
       "      <td>0</td>\n",
       "      <td>6</td>\n",
       "      <td>565</td>\n",
       "    </tr>\n",
       "    <tr>\n",
       "      <th>100</th>\n",
       "      <td>2018-09-26 14:17:35</td>\n",
       "      <td>2018-11-30 11:15:49</td>\n",
       "      <td>64 days 20:58:14</td>\n",
       "      <td>1.899114e+07</td>\n",
       "      <td>0</td>\n",
       "      <td>61175000</td>\n",
       "      <td>78.882353</td>\n",
       "      <td>0</td>\n",
       "      <td>35</td>\n",
       "      <td>1705</td>\n",
       "    </tr>\n",
       "    <tr>\n",
       "      <th>100001</th>\n",
       "      <td>2018-08-18 18:24:26</td>\n",
       "      <td>2018-10-02 13:36:45</td>\n",
       "      <td>44 days 19:12:19</td>\n",
       "      <td>8.889500e+06</td>\n",
       "      <td>3780000</td>\n",
       "      <td>12917000</td>\n",
       "      <td>33.250000</td>\n",
       "      <td>1</td>\n",
       "      <td>4</td>\n",
       "      <td>125</td>\n",
       "    </tr>\n",
       "    <tr>\n",
       "      <th>100002</th>\n",
       "      <td>2018-06-25 10:51:29</td>\n",
       "      <td>2018-12-02 22:11:16</td>\n",
       "      <td>160 days 11:19:47</td>\n",
       "      <td>1.207100e+07</td>\n",
       "      <td>0</td>\n",
       "      <td>43828000</td>\n",
       "      <td>48.750000</td>\n",
       "      <td>1</td>\n",
       "      <td>4</td>\n",
       "      <td>184</td>\n",
       "    </tr>\n",
       "    <tr>\n",
       "      <th>100003</th>\n",
       "      <td>2018-09-18 19:22:24</td>\n",
       "      <td>2018-10-11 13:19:41</td>\n",
       "      <td>22 days 17:57:17</td>\n",
       "      <td>5.947000e+06</td>\n",
       "      <td>193000</td>\n",
       "      <td>11701000</td>\n",
       "      <td>25.500000</td>\n",
       "      <td>1</td>\n",
       "      <td>2</td>\n",
       "      <td>50</td>\n",
       "    </tr>\n",
       "  </tbody>\n",
       "</table>\n",
       "</div>"
      ],
      "text/plain": [
       "              registration               ts_dt            regDay  \\\n",
       "userId                                                             \n",
       "10     2018-09-28 15:31:35 2018-11-19 09:49:48  51 days 18:18:13   \n",
       "100    2018-09-26 14:17:35 2018-11-30 11:15:49  64 days 20:58:14   \n",
       "100001 2018-08-18 18:24:26 2018-10-02 13:36:45  44 days 19:12:19   \n",
       "100002 2018-06-25 10:51:29 2018-12-02 22:11:16 160 days 11:19:47   \n",
       "100003 2018-09-18 19:22:24 2018-10-11 13:19:41  22 days 17:57:17   \n",
       "\n",
       "             ts_mean   ts_min    ts_max   song_mean gender  count_session  \\\n",
       "userId                                                                      \n",
       "10      2.758483e+07  5485000  92875000  112.166667      0              6   \n",
       "100     1.899114e+07        0  61175000   78.882353      0             35   \n",
       "100001  8.889500e+06  3780000  12917000   33.250000      1              4   \n",
       "100002  1.207100e+07        0  43828000   48.750000      1              4   \n",
       "100003  5.947000e+06   193000  11701000   25.500000      1              2   \n",
       "\n",
       "        aritstCount  \n",
       "userId               \n",
       "10              565  \n",
       "100            1705  \n",
       "100001          125  \n",
       "100002          184  \n",
       "100003           50  "
      ]
     },
     "execution_count": 139,
     "metadata": {},
     "output_type": "execute_result"
    }
   ],
   "source": [
    "tdf = tdf.join(user_artist_count.set_index('userId'))\n",
    "tdf.head()"
   ]
  },
  {
   "cell_type": "markdown",
   "metadata": {},
   "source": [
    "- Add churn column"
   ]
  },
  {
   "cell_type": "code",
   "execution_count": 150,
   "metadata": {},
   "outputs": [],
   "source": [
    "dc = df_churn.groupby(['userId','churn']).size().reset_index()[['userId','churn']]"
   ]
  },
  {
   "cell_type": "code",
   "execution_count": 151,
   "metadata": {},
   "outputs": [
    {
     "data": {
      "text/html": [
       "<div>\n",
       "<style scoped>\n",
       "    .dataframe tbody tr th:only-of-type {\n",
       "        vertical-align: middle;\n",
       "    }\n",
       "\n",
       "    .dataframe tbody tr th {\n",
       "        vertical-align: top;\n",
       "    }\n",
       "\n",
       "    .dataframe thead th {\n",
       "        text-align: right;\n",
       "    }\n",
       "</style>\n",
       "<table border=\"1\" class=\"dataframe\">\n",
       "  <thead>\n",
       "    <tr style=\"text-align: right;\">\n",
       "      <th></th>\n",
       "      <th>registration</th>\n",
       "      <th>ts_dt</th>\n",
       "      <th>regDay</th>\n",
       "      <th>ts_mean</th>\n",
       "      <th>ts_min</th>\n",
       "      <th>ts_max</th>\n",
       "      <th>song_mean</th>\n",
       "      <th>gender</th>\n",
       "      <th>count_session</th>\n",
       "      <th>aritstCount</th>\n",
       "      <th>churn</th>\n",
       "    </tr>\n",
       "    <tr>\n",
       "      <th>userId</th>\n",
       "      <th></th>\n",
       "      <th></th>\n",
       "      <th></th>\n",
       "      <th></th>\n",
       "      <th></th>\n",
       "      <th></th>\n",
       "      <th></th>\n",
       "      <th></th>\n",
       "      <th></th>\n",
       "      <th></th>\n",
       "      <th></th>\n",
       "    </tr>\n",
       "  </thead>\n",
       "  <tbody>\n",
       "    <tr>\n",
       "      <th>10</th>\n",
       "      <td>2018-09-28 15:31:35</td>\n",
       "      <td>2018-11-19 09:49:48</td>\n",
       "      <td>51 days 18:18:13</td>\n",
       "      <td>2.758483e+07</td>\n",
       "      <td>5485000</td>\n",
       "      <td>92875000</td>\n",
       "      <td>112.166667</td>\n",
       "      <td>0</td>\n",
       "      <td>6</td>\n",
       "      <td>565</td>\n",
       "      <td>False</td>\n",
       "    </tr>\n",
       "    <tr>\n",
       "      <th>100</th>\n",
       "      <td>2018-09-26 14:17:35</td>\n",
       "      <td>2018-11-30 11:15:49</td>\n",
       "      <td>64 days 20:58:14</td>\n",
       "      <td>1.899114e+07</td>\n",
       "      <td>0</td>\n",
       "      <td>61175000</td>\n",
       "      <td>78.882353</td>\n",
       "      <td>0</td>\n",
       "      <td>35</td>\n",
       "      <td>1705</td>\n",
       "      <td>False</td>\n",
       "    </tr>\n",
       "    <tr>\n",
       "      <th>100001</th>\n",
       "      <td>2018-08-18 18:24:26</td>\n",
       "      <td>2018-10-02 13:36:45</td>\n",
       "      <td>44 days 19:12:19</td>\n",
       "      <td>8.889500e+06</td>\n",
       "      <td>3780000</td>\n",
       "      <td>12917000</td>\n",
       "      <td>33.250000</td>\n",
       "      <td>1</td>\n",
       "      <td>4</td>\n",
       "      <td>125</td>\n",
       "      <td>True</td>\n",
       "    </tr>\n",
       "    <tr>\n",
       "      <th>100002</th>\n",
       "      <td>2018-06-25 10:51:29</td>\n",
       "      <td>2018-12-02 22:11:16</td>\n",
       "      <td>160 days 11:19:47</td>\n",
       "      <td>1.207100e+07</td>\n",
       "      <td>0</td>\n",
       "      <td>43828000</td>\n",
       "      <td>48.750000</td>\n",
       "      <td>1</td>\n",
       "      <td>4</td>\n",
       "      <td>184</td>\n",
       "      <td>False</td>\n",
       "    </tr>\n",
       "    <tr>\n",
       "      <th>100003</th>\n",
       "      <td>2018-09-18 19:22:24</td>\n",
       "      <td>2018-10-11 13:19:41</td>\n",
       "      <td>22 days 17:57:17</td>\n",
       "      <td>5.947000e+06</td>\n",
       "      <td>193000</td>\n",
       "      <td>11701000</td>\n",
       "      <td>25.500000</td>\n",
       "      <td>1</td>\n",
       "      <td>2</td>\n",
       "      <td>50</td>\n",
       "      <td>True</td>\n",
       "    </tr>\n",
       "  </tbody>\n",
       "</table>\n",
       "</div>"
      ],
      "text/plain": [
       "              registration               ts_dt            regDay  \\\n",
       "userId                                                             \n",
       "10     2018-09-28 15:31:35 2018-11-19 09:49:48  51 days 18:18:13   \n",
       "100    2018-09-26 14:17:35 2018-11-30 11:15:49  64 days 20:58:14   \n",
       "100001 2018-08-18 18:24:26 2018-10-02 13:36:45  44 days 19:12:19   \n",
       "100002 2018-06-25 10:51:29 2018-12-02 22:11:16 160 days 11:19:47   \n",
       "100003 2018-09-18 19:22:24 2018-10-11 13:19:41  22 days 17:57:17   \n",
       "\n",
       "             ts_mean   ts_min    ts_max   song_mean gender  count_session  \\\n",
       "userId                                                                      \n",
       "10      2.758483e+07  5485000  92875000  112.166667      0              6   \n",
       "100     1.899114e+07        0  61175000   78.882353      0             35   \n",
       "100001  8.889500e+06  3780000  12917000   33.250000      1              4   \n",
       "100002  1.207100e+07        0  43828000   48.750000      1              4   \n",
       "100003  5.947000e+06   193000  11701000   25.500000      1              2   \n",
       "\n",
       "        aritstCount  churn  \n",
       "userId                      \n",
       "10              565  False  \n",
       "100            1705  False  \n",
       "100001          125   True  \n",
       "100002          184  False  \n",
       "100003           50   True  "
      ]
     },
     "execution_count": 151,
     "metadata": {},
     "output_type": "execute_result"
    }
   ],
   "source": [
    "tdf = tdf.join(dc.set_index('userId'))\n",
    "tdf.head()"
   ]
  },
  {
   "cell_type": "code",
   "execution_count": null,
   "metadata": {},
   "outputs": [],
   "source": []
  },
  {
   "cell_type": "markdown",
   "metadata": {},
   "source": [
    "## Modeling"
   ]
  },
  {
   "cell_type": "code",
   "execution_count": 152,
   "metadata": {
    "scrolled": true
   },
   "outputs": [
    {
     "data": {
      "text/plain": [
       "(225, 11)"
      ]
     },
     "execution_count": 152,
     "metadata": {},
     "output_type": "execute_result"
    }
   ],
   "source": [
    "tdf_final = tdf[[]]"
   ]
  },
  {
   "cell_type": "markdown",
   "metadata": {},
   "source": [
    "- Split dataframe into train and test"
   ]
  },
  {
   "cell_type": "code",
   "execution_count": 154,
   "metadata": {},
   "outputs": [],
   "source": [
    "train, test = train_test_split(tdf, test_size=0.2)"
   ]
  },
  {
   "cell_type": "code",
   "execution_count": 166,
   "metadata": {},
   "outputs": [],
   "source": [
    "x_train = train[['ts_mean','ts_min','ts_max','song_mean','gender','count_session','aritstCount']]\n",
    "y_train = train[['churn']]"
   ]
  },
  {
   "cell_type": "code",
   "execution_count": 169,
   "metadata": {},
   "outputs": [],
   "source": [
    "x_test = test[['ts_mean','ts_min','ts_max','song_mean','gender','count_session','aritstCount']]\n",
    "y_test = test[['churn']]"
   ]
  },
  {
   "cell_type": "markdown",
   "metadata": {},
   "source": [
    "- Creating and trainning the model"
   ]
  },
  {
   "cell_type": "code",
   "execution_count": 167,
   "metadata": {
    "scrolled": false
   },
   "outputs": [
    {
     "name": "stderr",
     "output_type": "stream",
     "text": [
      "<ipython-input-167-3ae135f2971f>:2: DataConversionWarning: A column-vector y was passed when a 1d array was expected. Please change the shape of y to (n_samples,), for example using ravel().\n",
      "  clf.fit(x_train, y_train)\n"
     ]
    },
    {
     "data": {
      "text/plain": [
       "RandomForestClassifier(max_depth=15, random_state=0)"
      ]
     },
     "execution_count": 167,
     "metadata": {},
     "output_type": "execute_result"
    }
   ],
   "source": [
    "clf = RandomForestClassifier(max_depth=15, random_state=0)\n",
    "clf.fit(x_train, y_train)"
   ]
  },
  {
   "cell_type": "markdown",
   "metadata": {},
   "source": [
    "- Predicting"
   ]
  },
  {
   "cell_type": "code",
   "execution_count": 171,
   "metadata": {},
   "outputs": [],
   "source": [
    "y_pred = clf.predict(x_test)"
   ]
  },
  {
   "cell_type": "code",
   "execution_count": 174,
   "metadata": {},
   "outputs": [
    {
     "data": {
      "text/plain": [
       "array([False, False, False, False, False, False, False, False, False,\n",
       "       False, False, False, False, False, False, False, False, False,\n",
       "       False, False, False, False, False, False, False, False, False,\n",
       "       False, False, False,  True, False, False, False, False, False,\n",
       "       False, False, False, False, False, False,  True, False, False])"
      ]
     },
     "execution_count": 174,
     "metadata": {},
     "output_type": "execute_result"
    }
   ],
   "source": [
    "y_pred"
   ]
  },
  {
   "cell_type": "markdown",
   "metadata": {},
   "source": [
    "- Evaluation"
   ]
  },
  {
   "cell_type": "code",
   "execution_count": 186,
   "metadata": {
    "collapsed": true
   },
   "outputs": [
    {
     "data": {
      "text/plain": [
       "[False,\n",
       " False,\n",
       " True,\n",
       " True,\n",
       " False,\n",
       " True,\n",
       " False,\n",
       " True,\n",
       " False,\n",
       " False,\n",
       " False,\n",
       " False,\n",
       " False,\n",
       " False,\n",
       " True,\n",
       " True,\n",
       " False,\n",
       " False,\n",
       " False,\n",
       " False,\n",
       " False,\n",
       " False,\n",
       " True,\n",
       " False,\n",
       " True,\n",
       " False,\n",
       " True,\n",
       " False,\n",
       " False,\n",
       " False,\n",
       " False,\n",
       " False,\n",
       " False,\n",
       " True,\n",
       " False,\n",
       " False,\n",
       " False,\n",
       " False,\n",
       " False,\n",
       " False,\n",
       " True,\n",
       " False,\n",
       " False,\n",
       " False,\n",
       " False]"
      ]
     },
     "execution_count": 186,
     "metadata": {},
     "output_type": "execute_result"
    }
   ],
   "source": [
    "y_test['churn'].to_list()"
   ]
  },
  {
   "cell_type": "code",
   "execution_count": 188,
   "metadata": {
    "collapsed": true
   },
   "outputs": [
    {
     "data": {
      "text/plain": [
       "[False,\n",
       " False,\n",
       " False,\n",
       " False,\n",
       " False,\n",
       " False,\n",
       " False,\n",
       " False,\n",
       " False,\n",
       " False,\n",
       " False,\n",
       " False,\n",
       " False,\n",
       " False,\n",
       " False,\n",
       " False,\n",
       " False,\n",
       " False,\n",
       " False,\n",
       " False,\n",
       " False,\n",
       " False,\n",
       " False,\n",
       " False,\n",
       " False,\n",
       " False,\n",
       " False,\n",
       " False,\n",
       " False,\n",
       " False,\n",
       " True,\n",
       " False,\n",
       " False,\n",
       " False,\n",
       " False,\n",
       " False,\n",
       " False,\n",
       " False,\n",
       " False,\n",
       " False,\n",
       " False,\n",
       " False,\n",
       " True,\n",
       " False,\n",
       " False]"
      ]
     },
     "execution_count": 188,
     "metadata": {},
     "output_type": "execute_result"
    }
   ],
   "source": [
    "list(y_pred)"
   ]
  },
  {
   "cell_type": "code",
   "execution_count": 191,
   "metadata": {},
   "outputs": [
    {
     "name": "stdout",
     "output_type": "stream",
     "text": [
      "0.7111111111111111\n"
     ]
    }
   ],
   "source": [
    "count = 0\n",
    "for y1,y2 in zip(y_test['churn'].to_list(),list(y_pred)):\n",
    "    if(y1 == y2):\n",
    "        count += 1\n",
    "print(count/len(y_pred))       "
   ]
  },
  {
   "cell_type": "markdown",
   "metadata": {},
   "source": [
    "## Conclusion"
   ]
  },
  {
   "cell_type": "markdown",
   "metadata": {},
   "source": [
    "> Exceptional performance of model. It hit 71% of accuracy. "
   ]
  }
 ],
 "metadata": {
  "kernelspec": {
   "display_name": "Python 3",
   "language": "python",
   "name": "python3"
  },
  "language_info": {
   "codemirror_mode": {
    "name": "ipython",
    "version": 3
   },
   "file_extension": ".py",
   "mimetype": "text/x-python",
   "name": "python",
   "nbconvert_exporter": "python",
   "pygments_lexer": "ipython3",
   "version": "3.8.3"
  }
 },
 "nbformat": 4,
 "nbformat_minor": 4
}
